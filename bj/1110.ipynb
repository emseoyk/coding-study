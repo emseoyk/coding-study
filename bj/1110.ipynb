{
 "cells": [
  {
   "cell_type": "code",
   "execution_count": 22,
   "metadata": {},
   "outputs": [
    {
     "name": "stdout",
     "output_type": "stream",
     "text": [
      "N:  50\n",
      "N:  5\n",
      "N:  55\n",
      "Count:  3\n"
     ]
    }
   ],
   "source": [
    "n = int(input())\n",
    "\n",
    "cnt = 0\n",
    "\n",
    "    \n",
    "og = n\n",
    "\n",
    "while True:\n",
    "    # if n//10==0 and n%10 == n:\n",
    "    #     n = n+0\n",
    "    # else:\n",
    "        # print(n)\n",
    "    n = n%10*10 + (n//10+n%10)%10\n",
    "    cnt += 1   \n",
    "    \n",
    "    print('N: ', n) \n",
    "    \n",
    "    if og == n:\n",
    "        break\n",
    "        print('break')\n",
    "\n",
    "\n",
    "print('Count: ', cnt)"
   ]
  },
  {
   "cell_type": "code",
   "execution_count": 14,
   "metadata": {},
   "outputs": [
    {
     "name": "stdout",
     "output_type": "stream",
     "text": [
      "94\n"
     ]
    }
   ],
   "source": [
    "n=55\n",
    "print(n%10*10 + (n//10+n%10)%10)"
   ]
  },
  {
   "cell_type": "code",
   "execution_count": null,
   "metadata": {},
   "outputs": [],
   "source": [
    "n=55\n",
    "5+5=10\n",
    "n=50\n",
    "5+0=5\n",
    "n=5\n"
   ]
  }
 ],
 "metadata": {
  "kernelspec": {
   "display_name": "Python 3",
   "language": "python",
   "name": "python3"
  },
  "language_info": {
   "codemirror_mode": {
    "name": "ipython",
    "version": 3
   },
   "file_extension": ".py",
   "mimetype": "text/x-python",
   "name": "python",
   "nbconvert_exporter": "python",
   "pygments_lexer": "ipython3",
   "version": "3.9.6"
  },
  "orig_nbformat": 4
 },
 "nbformat": 4,
 "nbformat_minor": 2
}
