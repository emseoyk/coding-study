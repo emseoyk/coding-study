{
 "cells": [
  {
   "cell_type": "code",
   "execution_count": 4,
   "metadata": {},
   "outputs": [
    {
     "name": "stdout",
     "output_type": "stream",
     "text": [
      "Z\n"
     ]
    }
   ],
   "source": [
    "from collections import Counter\n",
    "word = input()\n",
    "word = word.upper()\n",
    "letter_dict = dict()\n",
    "for l in list(set(word)):\n",
    "    letter_dict[l] = 0\n",
    "    \n",
    "for l in word:\n",
    "    letter_dict[l]+= 1\n",
    "\n",
    "count = Counter(letter_dict).most_common(2)\n",
    "if count[0][1] > count[1][1]:\n",
    "    print(count[0][0])\n",
    "else:\n",
    "    print('?')\n"
   ]
  },
  {
   "cell_type": "code",
   "execution_count": 6,
   "metadata": {},
   "outputs": [
    {
     "name": "stdout",
     "output_type": "stream",
     "text": [
      "A\n"
     ]
    }
   ],
   "source": [
    "word = input().upper()\n",
    "char_list = list(set(word))\n",
    "char_cnt = []\n",
    "\n",
    "for c in char_list:\n",
    "    char_cnt.append(word.count(c))\n",
    "\n",
    "if char_cnt.count(max(char_cnt)) > 1:\n",
    "    print('?')\n",
    "else:\n",
    "    print(char_list[char_cnt.index(max(char_cnt))])"
   ]
  },
  {
   "cell_type": "code",
   "execution_count": null,
   "metadata": {},
   "outputs": [],
   "source": []
  }
 ],
 "metadata": {
  "kernelspec": {
   "display_name": "Python 3",
   "language": "python",
   "name": "python3"
  },
  "language_info": {
   "codemirror_mode": {
    "name": "ipython",
    "version": 3
   },
   "file_extension": ".py",
   "mimetype": "text/x-python",
   "name": "python",
   "nbconvert_exporter": "python",
   "pygments_lexer": "ipython3",
   "version": "3.9.6"
  },
  "orig_nbformat": 4
 },
 "nbformat": 4,
 "nbformat_minor": 2
}
