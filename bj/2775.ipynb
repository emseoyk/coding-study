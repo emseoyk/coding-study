{
 "cells": [
  {
   "cell_type": "code",
   "execution_count": null,
   "metadata": {},
   "outputs": [],
   "source": [
    "2 1 3 2 3"
   ]
  },
  {
   "cell_type": "code",
   "execution_count": 16,
   "metadata": {},
   "outputs": [
    {
     "name": "stdout",
     "output_type": "stream",
     "text": [
      "K 1\n",
      "N 3\n",
      "8\n",
      "# Residents: 8\n",
      "K 2\n",
      "N 3\n",
      "8\n",
      "13\n",
      "# Residents: 13\n"
     ]
    }
   ],
   "source": [
    "input_ = [int(i) for i in input().split(' ')]\n",
    "T = input_[0]\n",
    "\n",
    "for t in range(T):\n",
    "    k = input_[2*t+1]\n",
    "    n = input_[2*t+2]\n",
    "    print('K', k)\n",
    "    print('N', n)\n",
    "    \n",
    "    human = n\n",
    "    \n",
    "    for i in range(0, k):\n",
    "        for j in range(1, n):    \n",
    "            human += (j+1)\n",
    "        print(human)\n",
    "    # human = human*(k-1)\n",
    "    \n",
    "    print('# Residents:', human)"
   ]
  },
  {
   "cell_type": "code",
   "execution_count": null,
   "metadata": {},
   "outputs": [],
   "source": [
    "human = 0\n",
    "for i in range(1, len(n)):\n",
    "    human += i\n",
    "human = human*(k-1)"
   ]
  },
  {
   "cell_type": "code",
   "execution_count": 7,
   "metadata": {},
   "outputs": [
    {
     "data": {
      "text/plain": [
       "[2, 1, 3, 2, 3]"
      ]
     },
     "execution_count": 7,
     "metadata": {},
     "output_type": "execute_result"
    }
   ],
   "source": [
    "[int(i) for i in '2\\n1\\n3\\n2\\n3'.split('\\n')]"
   ]
  },
  {
   "cell_type": "code",
   "execution_count": null,
   "metadata": {},
   "outputs": [],
   "source": []
  }
 ],
 "metadata": {
  "kernelspec": {
   "display_name": "Python 3",
   "language": "python",
   "name": "python3"
  },
  "language_info": {
   "codemirror_mode": {
    "name": "ipython",
    "version": 3
   },
   "file_extension": ".py",
   "mimetype": "text/x-python",
   "name": "python",
   "nbconvert_exporter": "python",
   "pygments_lexer": "ipython3",
   "version": "3.9.6"
  },
  "orig_nbformat": 4
 },
 "nbformat": 4,
 "nbformat_minor": 2
}
