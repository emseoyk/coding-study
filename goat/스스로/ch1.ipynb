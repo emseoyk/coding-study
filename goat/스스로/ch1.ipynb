{
 "cells": [
  {
   "cell_type": "code",
   "execution_count": null,
   "metadata": {},
   "outputs": [],
   "source": []
  },
  {
   "cell_type": "markdown",
   "metadata": {},
   "source": [
    "# 괄호검사"
   ]
  },
  {
   "cell_type": "code",
   "execution_count": 52,
   "metadata": {},
   "outputs": [],
   "source": [
    "def isEmpty(list):\n",
    "    return len(list) == 0\n",
    "\n",
    "def check_brackets(string):\n",
    "    check = list()\n",
    "    for c in string:\n",
    "        if c in ('(', '[', '{'):\n",
    "            check.append(c)\n",
    "            print('left', c, check)\n",
    "        elif c in (')', ']', '}'):\n",
    "            if len(check) == 0:\n",
    "                return False\n",
    "            else:\n",
    "                last = check.pop()\n",
    "                if (last == '(' and c == ')') or (last == '{' and c == '}') or (last == '[' and c == ']'):\n",
    "                    return True\n",
    "                else:\n",
    "                    return False\n",
    "            print('right', c, check, 'pop', last)\n",
    "        \n",
    "    print('='*10)        \n"
   ]
  },
  {
   "cell_type": "code",
   "execution_count": 53,
   "metadata": {},
   "outputs": [
    {
     "data": {
      "text/plain": [
       "0"
      ]
     },
     "execution_count": 53,
     "metadata": {},
     "output_type": "execute_result"
    }
   ],
   "source": [
    "len([])"
   ]
  },
  {
   "cell_type": "code",
   "execution_count": 54,
   "metadata": {},
   "outputs": [
    {
     "name": "stdout",
     "output_type": "stream",
     "text": [
      "[]\n"
     ]
    }
   ],
   "source": [
    "l = ['{']\n",
    "l.pop()\n",
    "print(l)"
   ]
  },
  {
   "cell_type": "code",
   "execution_count": 55,
   "metadata": {},
   "outputs": [
    {
     "name": "stdout",
     "output_type": "stream",
     "text": [
      "left { ['{']\n",
      "left [ ['{', '[']\n",
      "left ( ['{', '[', '(']\n",
      "{ A[(i+1)]=0; }  --->  True\n",
      "left ( ['(']\n",
      "left ( ['(', '(']\n",
      "if ((x<0) && (y<3)  --->  True\n",
      "left ( ['(']\n",
      "while (n<8)) {n++;}  --->  True\n",
      "left [ ['[']\n",
      "left ( ['[', '(']\n",
      "arr[(i+1])=0;  --->  False\n"
     ]
    }
   ],
   "source": [
    "str1 = \"{ A[(i+1)]=0; }\"\n",
    "str2 = \"if ((x<0) && (y<3)\"\n",
    "str3 = \"while (n<8)) {n++;}\"\n",
    "str4 = \"arr[(i+1])=0;\"\n",
    "\n",
    "print(str1, \" ---> \", check_brackets(str1))\n",
    "print(str2, \" ---> \", check_brackets(str2))\n",
    "print(str3, \" ---> \", check_brackets(str3))\n",
    "print(str4, \" ---> \", check_brackets(str4))"
   ]
  },
  {
   "cell_type": "markdown",
   "metadata": {},
   "source": [
    "# 하노이의 탑"
   ]
  },
  {
   "cell_type": "code",
   "execution_count": null,
   "metadata": {},
   "outputs": [],
   "source": []
  }
 ],
 "metadata": {
  "kernelspec": {
   "display_name": "Python 3",
   "language": "python",
   "name": "python3"
  },
  "language_info": {
   "codemirror_mode": {
    "name": "ipython",
    "version": 3
   },
   "file_extension": ".py",
   "mimetype": "text/x-python",
   "name": "python",
   "nbconvert_exporter": "python",
   "pygments_lexer": "ipython3",
   "version": "3.0.0"
  },
  "orig_nbformat": 4
 },
 "nbformat": 4,
 "nbformat_minor": 2
}
