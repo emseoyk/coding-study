{
 "cells": [
  {
   "cell_type": "markdown",
   "id": "b5bf2a06",
   "metadata": {},
   "source": [
    "#### 파이썬 리스트 기본 실습"
   ]
  },
  {
   "cell_type": "markdown",
   "id": "00dbf0d6-b528-4f6c-878c-286d36a9304b",
   "metadata": {},
   "source": [
    "#### (1) 리스트 생성과 출력"
   ]
  },
  {
   "cell_type": "code",
   "execution_count": 1,
   "id": "c8e226c2",
   "metadata": {},
   "outputs": [
    {
     "name": "stdout",
     "output_type": "stream",
     "text": [
      "[10, 20, 30]\n"
     ]
    }
   ],
   "source": [
    "book = [10, 20, 30] #리스트를 만든다\n",
    "print(book) #리스트 book을 출력해 본다"
   ]
  },
  {
   "cell_type": "code",
   "execution_count": 2,
   "id": "9173f4e2",
   "metadata": {},
   "outputs": [
    {
     "name": "stdout",
     "output_type": "stream",
     "text": [
      "30\n"
     ]
    }
   ],
   "source": [
    "print(book[2]) #인덱스 2의 원소를 출력한다."
   ]
  },
  {
   "cell_type": "code",
   "execution_count": 5,
   "id": "c17710d0",
   "metadata": {},
   "outputs": [
    {
     "name": "stdout",
     "output_type": "stream",
     "text": [
      "[10, 30]\n",
      "[40, 10, 30]\n"
     ]
    }
   ],
   "source": [
    "del book[1]\n",
    "print(book)\n",
    "book.insert(0, 40)\n",
    "print(book)"
   ]
  },
  {
   "cell_type": "markdown",
   "id": "dfda0705",
   "metadata": {},
   "source": [
    "### 리스트의 삽입과 삭제"
   ]
  },
  {
   "cell_type": "code",
   "execution_count": null,
   "id": "5f77f075",
   "metadata": {},
   "outputs": [],
   "source": [
    "numbers = [1,2,3,4,5]\n",
    "print(numbers)\n",
    "numbers.insert(0,-1) #인덱스 0에 –1 삽입\n",
    "print(numbers)\n",
    "numbers.pop(0)#인덱스 0의 원소 삭제\n",
    "print(numbers)\n",
    "numbers.insert(4,10) #인덱스 4에 10 삽입\n",
    "print(numbers)"
   ]
  },
  {
   "cell_type": "markdown",
   "id": "ba3b3289",
   "metadata": {},
   "source": [
    "### 여러 가지 리스트"
   ]
  },
  {
   "cell_type": "code",
   "execution_count": null,
   "id": "3e177f17",
   "metadata": {},
   "outputs": [],
   "source": [
    "intList = [10,12,23,-4,0]         #정수로 구성된 리스트\n",
    "strList = [\"Hello\"]                    #문자열 하나로 구성된 리스트\n",
    "charList = ['h','e','l','l','o']      #문자들로 구성된 리스트\n",
    "myList = [0,'a','high', -0.9]    #여러 자료형의 원소로 구성된 리스트\n",
    "print(intList)\n",
    "print(strList)\n",
    "print(charList)\n",
    "print(myList)"
   ]
  },
  {
   "cell_type": "code",
   "execution_count": null,
   "id": "27b5aa3d",
   "metadata": {},
   "outputs": [],
   "source": [
    "strList = [\"Hello\"] \n",
    "print(strList)\n",
    "strList.append(\"world\") #마지막에 추가\n",
    "print(strList)\n",
    "strList.append(\"!\")\n",
    "print(strList)"
   ]
  },
  {
   "cell_type": "code",
   "execution_count": null,
   "id": "fa7d747d",
   "metadata": {},
   "outputs": [],
   "source": [
    "print(intList[1:3]) #인덱스1 부터 3이전까지, 즉 인덱스1, 2의 원소\n",
    "print(intList[:])  #처음부터 끝까지\n",
    "print(charList[ : : 2]) #처음부터 끝까지 인덱스 +=2로 이동\n",
    "print(myList [-4:4:3]) #인덱스 -4에서 3까지 인덱스 +=3로 이동"
   ]
  },
  {
   "cell_type": "markdown",
   "id": "1f7ab3e3",
   "metadata": {},
   "source": [
    "### 파이썬 리스트 활용 실습"
   ]
  },
  {
   "cell_type": "code",
   "execution_count": 1,
   "id": "8e581062",
   "metadata": {},
   "outputs": [],
   "source": [
    "# 버킷리스트 클래스\n",
    "class Bucketlist:\n",
    "    \n",
    "    def __init__(self):  #생성자\n",
    "        self.list=[]     #빈 리스트를 생성한다.        \n",
    "        \n",
    "    def showList(self):\n",
    "        print(\"****\")\n",
    "        print('* 현재 버킷리스트입니다')\n",
    "        for i in range(len(self.list)):\n",
    "            print(i+1,':',self.list[i]) #번호를 1부터 시작\n",
    "        \n",
    "    def add(self,str):\n",
    "        self.list.append(str) #리스트의 마지막에 항목 추가\n",
    "    \n",
    "    def delete(self, n):   #해당 번호의 리스트 삭제\n",
    "        self.list.pop(n-1)\n",
    "               \n",
    "    def insert(self, n, str): #특정 번호(순서)에 항목 삽입\n",
    "        self.list.insert(n-1,str)\n",
    "               \n",
    "    def find(self,n):  #특정 번호의 항목 출력\n",
    "        print(n, '번째 :',self.list[n-1])"
   ]
  },
  {
   "cell_type": "markdown",
   "id": "6345e039",
   "metadata": {},
   "source": [
    "### 테스트"
   ]
  },
  {
   "cell_type": "code",
   "execution_count": 2,
   "id": "d64b76eb",
   "metadata": {},
   "outputs": [
    {
     "name": "stdout",
     "output_type": "stream",
     "text": [
      "****\n",
      "* 현재 버킷리스트입니다\n",
      "1 : 운동하기\n",
      "2 : 제주 여행\n",
      "3 : 파이썬 배우기\n",
      "4 : 친구 연락하기\n",
      "5 : 친구만나기\n",
      "****\n",
      "* 현재 버킷리스트입니다\n",
      "1 : 운동하기\n",
      "2 : 제주 여행\n",
      "3 : 친구 연락하기\n",
      "4 : 친구만나기\n",
      "****\n",
      "* 현재 버킷리스트입니다\n",
      "1 : 운동하기\n",
      "2 : 제주 여행\n",
      "3 : 친구 연락하기\n",
      "4 : 가방 정리\n",
      "5 : 친구만나기\n",
      "3 번째 : 친구 연락하기\n"
     ]
    }
   ],
   "source": [
    "myList = Bucketlist() #나의 버킷리스트 myList 생성\n",
    "\n",
    "#버킷리스트 항목 추가\n",
    "myList.add('운동하기')\n",
    "myList.add('제주 여행')\n",
    "myList.add('파이썬 배우기')\n",
    "myList.add('친구 연락하기')\n",
    "myList.add('친구만나기')\n",
    "\n",
    "myList.showList() #버킷리스트 출력\n",
    "myList.delete(3) #3번째 항목 삭제\n",
    "myList.showList()\n",
    "myList.insert(4, '가방 정리') #2번째에 추가\n",
    "myList.showList()\n",
    "myList.add('등산')\n",
    "myList.find(3)"
   ]
  }
 ],
 "metadata": {
  "kernelspec": {
   "display_name": "llama_index3",
   "language": "python",
   "name": "python3"
  },
  "language_info": {
   "codemirror_mode": {
    "name": "ipython",
    "version": 3
   },
   "file_extension": ".py",
   "mimetype": "text/x-python",
   "name": "python",
   "nbconvert_exporter": "python",
   "pygments_lexer": "ipython3",
   "version": "3.12.8"
  }
 },
 "nbformat": 4,
 "nbformat_minor": 5
}
