{
 "cells": [
  {
   "cell_type": "markdown",
   "id": "37148d16",
   "metadata": {},
   "source": [
    "# 선형 큐의 구현"
   ]
  },
  {
   "cell_type": "code",
   "execution_count": 3,
   "id": "68d8ad2f",
   "metadata": {},
   "outputs": [
    {
     "name": "stdout",
     "output_type": "stream",
     "text": [
      "Queue state: [1, 2, 3]\n",
      "1\n",
      "Queue state: [2, 3]\n"
     ]
    }
   ],
   "source": [
    "class LinearQueue :\n",
    "    def __init__(self):\n",
    "        self.q_list = [] #큐 저장 공간을 빈 리스트로 생성한다.\n",
    "    def enqueue(self, data): #enqueue는 삽입할 데이터(값)를 필요로 한다.\n",
    "        self.q_list.append(data) \n",
    "    def dequeue(self):\n",
    "        if not self.isEmpty(): #빈 상태가 아니라면\n",
    "            return self.q_list.pop(0)#가장 처음 삽입된 데이터를 반환하여 삭제한다.\n",
    "    def isEmpty(self):\n",
    "         return len(self.q_list) == 0  #q_list의 길이가 0이면 빈 상태를 의미한다.\n",
    "    def size(self) :\n",
    "          return len(self.q_list)\n",
    "    def clear(self) :\n",
    "          self.q_list = []\n",
    "    def display(self):\n",
    "        print(\"Queue state:\", self.q_list)\n",
    "\n",
    "            \n",
    "#선형 큐 테스트\n",
    "lq = LinearQueue()\n",
    "lq.enqueue(1)\n",
    "lq.enqueue(2)\n",
    "lq.enqueue(3)\n",
    "lq.display()  \n",
    "print(lq.dequeue())  # 1\n",
    "lq.display()  "
   ]
  },
  {
   "cell_type": "code",
   "execution_count": 4,
   "id": "861db40c-c590-4424-8656-cf662f6d6a8f",
   "metadata": {},
   "outputs": [
    {
     "name": "stdout",
     "output_type": "stream",
     "text": [
      "문자열 입력: hello\n"
     ]
    },
    {
     "name": "stdout",
     "output_type": "stream",
     "text": [
      "h\n",
      "e\n",
      "l\n"
     ]
    }
   ],
   "source": [
    "lq = LinearQueue()\n",
    "instr = input(\"문자열 입력:\")\n",
    "for ch in instr:\n",
    "    lq.enqueue(ch)\n",
    "for ch in range(3):\n",
    "    print(lq.dequeue())"
   ]
  },
  {
   "cell_type": "markdown",
   "id": "5c549edb",
   "metadata": {},
   "source": [
    "## 원형 큐의 구현"
   ]
  },
  {
   "cell_type": "code",
   "execution_count": 5,
   "id": "19543ffe",
   "metadata": {},
   "outputs": [
    {
     "name": "stdout",
     "output_type": "stream",
     "text": [
      "Queue state: [None, 1, 2, 3, None, None, None, None]\n",
      "1\n",
      "Queue state: [None, None, 2, 3, None, None, None, None]\n"
     ]
    }
   ],
   "source": [
    "QSIZE = 8\n",
    "\n",
    "class CircularQueue:\n",
    "    def __init__(self):\n",
    "        self.front = 0\n",
    "        self.rear = 0\n",
    "        self.q_list = [None] * QSIZE\n",
    "        \n",
    "    def enqueue(self, data):\n",
    "        if not self.isFull():\n",
    "            self.rear = (self.rear + 1) % QSIZE\n",
    "            self.q_list[self.rear] = data\n",
    "        else:\n",
    "            print(\"Queue is full! Cannot enqueue data.\")\n",
    "           \n",
    "    def dequeue(self):\n",
    "        if not self.isEmpty():\n",
    "            self.front = (self.front + 1) % QSIZE\n",
    "            data = self.q_list[self.front]\n",
    "            self.q_list[self.front] = None  # 초기화\n",
    "            return data\n",
    "        else:\n",
    "            print(\"Queue is empty! Cannot dequeue data.\")\n",
    "            return None\n",
    "        \n",
    "    def isEmpty(self):\n",
    "        return self.front == self.rear\n",
    "    \n",
    "    def isFull(self):\n",
    "        return self.front == (self.rear + 1) % QSIZE\n",
    "    \n",
    "    def clear(self):\n",
    "        self.front = self.rear\n",
    "\n",
    "    def display(self):\n",
    "        print(\"Queue state:\", self.q_list)\n",
    "\n",
    "# 예제 사용법\n",
    "cq = CircularQueue()\n",
    "cq.enqueue(1)\n",
    "cq.enqueue(2)\n",
    "cq.enqueue(3)\n",
    "cq.display()  # Queue state: [None, 1, 2, 3, None, None, None, None]\n",
    "print(cq.dequeue())  # 1\n",
    "cq.display()  # Queue state: [None, None, 2, 3, None, None, None, None]"
   ]
  },
  {
   "cell_type": "code",
   "execution_count": 16,
   "id": "f83f5f12",
   "metadata": {},
   "outputs": [
    {
     "name": "stdout",
     "output_type": "stream",
     "text": [
      "Queue is full! Cannot enqueue data.\n",
      "0  front:  1 rear :  7\n",
      "1  front:  2 rear :  7\n",
      "2  front:  3 rear :  7\n",
      "3  front:  4 rear :  7\n",
      "4  front:  5 rear :  7\n",
      "5  front:  6 rear :  7\n",
      "6  front:  7 rear :  7\n",
      "Queue is empty! Cannot dequeue data.\n",
      "None  front:  7 rear :  7\n",
      "\n",
      "4회 삽입\n",
      "front:  7 rear :  3\n"
     ]
    }
   ],
   "source": [
    "cq = CircularQueue()\n",
    "for i in range(QSIZE): \n",
    "       cq.enqueue(i)\n",
    "for i in range(QSIZE): \n",
    "        print(cq.dequeue(), \" \", end='')\n",
    "        print(\"front: \", cq.front, \"rear : \", cq.rear)\n",
    "print()\n",
    "print(\"4회 삽입\")\n",
    "for i in range(5, 9): \n",
    "        cq.enqueue(i)\n",
    "print(\"front: \", cq.front, \"rear : \", cq.rear)\n"
   ]
  },
  {
   "cell_type": "markdown",
   "id": "4b6b13b1",
   "metadata": {},
   "source": [
    "# # 미로 탐색"
   ]
  },
  {
   "cell_type": "markdown",
   "id": "2da60716",
   "metadata": {},
   "source": [
    "#원형 큐 클래스"
   ]
  },
  {
   "cell_type": "code",
   "execution_count": 3,
   "id": "b90cd0b9-915c-4891-b9b9-c9ca2ab0e51a",
   "metadata": {},
   "outputs": [],
   "source": [
    "QSIZE = 8\n",
    "\n",
    "class CircularQueue:\n",
    "    def __init__(self):\n",
    "        self.front = 0\n",
    "        self.rear = 0\n",
    "        self.q_list = [None] * QSIZE\n",
    "        \n",
    "    def enqueue(self, data):\n",
    "        if not self.isFull():\n",
    "            self.rear = (self.rear + 1) % QSIZE\n",
    "            self.q_list[self.rear] = data\n",
    "        else:\n",
    "            print(\"Queue is full! Cannot enqueue data.\")\n",
    "           \n",
    "    def dequeue(self):\n",
    "        if not self.isEmpty():\n",
    "            self.front = (self.front + 1) % QSIZE\n",
    "            data = self.q_list[self.front]\n",
    "            self.q_list[self.front] = None  # 초기화\n",
    "            return data\n",
    "        else:\n",
    "            print(\"Queue is empty! Cannot dequeue data.\")\n",
    "            return None\n",
    "        \n",
    "    def isEmpty(self):\n",
    "        return self.front == self.rear\n",
    "    \n",
    "    def isFull(self):\n",
    "        return self.front == (self.rear + 1) % QSIZE\n",
    "    \n",
    "    def clear(self):\n",
    "        self.front = self.rear\n",
    "\n",
    "    def display(self):\n",
    "        print(\"Queue state:\", self.q_list)"
   ]
  },
  {
   "cell_type": "markdown",
   "id": "cfcbbdc6-c208-4bbc-a29f-369366c0573f",
   "metadata": {},
   "source": [
    "#미로 탐색을 위한 함수를 정의"
   ]
  },
  {
   "cell_type": "code",
   "execution_count": 19,
   "id": "f06c0aa8",
   "metadata": {
    "scrolled": true
   },
   "outputs": [
    {
     "name": "stdout",
     "output_type": "stream",
     "text": [
      "출발 (0, 1)\n",
      "현재 위치 (0, 1) -> Queue state: [None, None, (1, 1), None, None, None, None, None]\n",
      "1 0 1 1 0 \n",
      "* 0 0 0 0 \n",
      "1 0 1 1 1 \n",
      "1 0 0 0 x \n",
      "1 0 1 1 1 \n",
      "\n",
      "현재 위치 (1, 1) -> Queue state: [None, None, None, (1, 0), (1, 2), (2, 1), None, None]\n",
      "1 0 1 1 0 \n",
      "* * 0 0 0 \n",
      "1 0 1 1 1 \n",
      "1 0 0 0 x \n",
      "1 0 1 1 1 \n",
      "\n",
      "현재 위치 (1, 0) -> Queue state: [None, None, None, None, (1, 2), (2, 1), None, None]\n",
      "1 * 1 1 0 \n",
      "* * 0 0 0 \n",
      "1 0 1 1 1 \n",
      "1 0 0 0 x \n",
      "1 0 1 1 1 \n",
      "\n",
      "현재 위치 (1, 2) -> Queue state: [None, None, None, None, None, (2, 1), (1, 3), None]\n",
      "1 * 1 1 0 \n",
      "* * 0 0 0 \n",
      "1 * 1 1 1 \n",
      "1 0 0 0 x \n",
      "1 0 1 1 1 \n",
      "\n",
      "현재 위치 (2, 1) -> Queue state: [None, None, None, None, None, None, (1, 3), (3, 1)]\n",
      "1 * 1 1 0 \n",
      "* * * 0 0 \n",
      "1 * 1 1 1 \n",
      "1 0 0 0 x \n",
      "1 0 1 1 1 \n",
      "\n",
      "현재 위치 (1, 3) -> Queue state: [(1, 4), (2, 3), None, None, None, None, None, (3, 1)]\n",
      "1 * 1 1 0 \n",
      "* * * 0 0 \n",
      "1 * 1 1 1 \n",
      "1 * 0 0 x \n",
      "1 0 1 1 1 \n",
      "\n",
      "현재 위치 (3, 1) -> Queue state: [(1, 4), (2, 3), (4, 1), None, None, None, None, None]\n",
      "1 * 1 1 0 \n",
      "* * * * 0 \n",
      "1 * 1 1 1 \n",
      "1 * 0 0 x \n",
      "1 0 1 1 1 \n",
      "\n",
      "현재 위치 (1, 4) -> Queue state: [None, (2, 3), (4, 1), None, None, None, None, None]\n",
      "1 * 1 1 0 \n",
      "* * * * 0 \n",
      "1 * 1 1 1 \n",
      "1 * 0 0 x \n",
      "1 * 1 1 1 \n",
      "\n",
      "현재 위치 (2, 3) -> Queue state: [None, None, (4, 1), (3, 3), None, None, None, None]\n",
      "1 * 1 1 0 \n",
      "* * * * 0 \n",
      "1 * 1 1 1 \n",
      "1 * * 0 x \n",
      "1 * 1 1 1 \n",
      "\n",
      "현재 위치 (4, 1) -> Queue state: [None, None, None, (3, 3), (4, 0), None, None, None]\n",
      "1 * 1 1 0 \n",
      "* * * * * \n",
      "1 * 1 1 1 \n",
      "1 * * 0 x \n",
      "1 * 1 1 1 \n",
      "\n",
      "현재 위치 (3, 3) -> Queue state: [None, None, None, None, (4, 0), (4, 3), None, None]\n",
      "1 * 1 1 0 \n",
      "* * * * * \n",
      "1 * 1 1 1 \n",
      "1 * * * x \n",
      "1 * 1 1 1 \n",
      "\n",
      "현재 위치 (4, 0) -> Queue state: [None, None, None, None, None, (4, 3), None, None]\n",
      "1 * 1 1 * \n",
      "* * * * * \n",
      "1 * 1 1 1 \n",
      "1 * * * x \n",
      "1 * 1 1 1 \n",
      "\n",
      "현재 위치 (4, 3) -> 탈출 성공\n"
     ]
    }
   ],
   "source": [
    "def BFS(start, maze):\n",
    "    \n",
    "    queue = CircularQueue()  # 원형 큐 객체\n",
    "    queue.enqueue(start)  # 출발 위치 삽입\n",
    "    # 네 방향 (상, 하, 좌, 우)\n",
    "    directions = [(0, -1), (0, 1), (-1, 0), (1, 0)]\n",
    "    print(\"출발\", start)\n",
    "    \n",
    "    while not queue.isEmpty():\n",
    "        position = queue.dequeue()  # 큐에서 현재 위치 확인\n",
    "        print(\"현재 위치\", position, end=' -> ')\n",
    "        if position is None:\n",
    "            continue\n",
    "        x, y = position\n",
    "        \n",
    "        if maze[y][x] == 'x':  # 현재 위치가 도착점이면\n",
    "            return \"탈출 성공\"\n",
    "        \n",
    "        maze[y][x] = '*'  # 방문 여부를 표시\n",
    "        for direction in directions:  # 네 방향으로 이동 가능 지점 확인\n",
    "            next_x, next_y = x + direction[0], y + direction[1]\n",
    "            if (0 <= next_x < len(maze[0])) and (0 <= next_y < len(maze)) \\\n",
    "                       and maze[next_y][next_x] in ['0', 'x']:\n",
    "                queue.enqueue((next_x, next_y))  # 이동할 수 있는 지점이면 큐에 추가\n",
    "                \n",
    "        # 큐 출력해 보기\n",
    "        queue.display()\n",
    "        # 미로 출력해 보기\n",
    "        for row in maze:\n",
    "            for cell in row:\n",
    "                print(cell, end=' ')\n",
    "            print()\n",
    "        print()\n",
    "       \n",
    "    return \"탈출 실패\"\n",
    "\n",
    "\n",
    "# 미로 설정 (0: 경로, 1: 벽, x: 도착점)\n",
    "maze = [\n",
    "    ['1', '0', '1', '1', '0'],\n",
    "    ['0', '0', '0', '0', '0'],\n",
    "    ['1', '0', '1', '1','1'],\n",
    "    ['1', '0', '0', '0', 'x'],\n",
    "    ['1', '0', '1', '1', '1']\n",
    "]\n",
    "\n",
    "start = (0, 1)  # 출발 지점\n",
    "\n",
    "# 미로 탐색 실행\n",
    "result = BFS(start, maze)\n",
    "\n",
    "print(result)"
   ]
  }
 ],
 "metadata": {
  "kernelspec": {
   "display_name": "Python 3 (ipykernel)",
   "language": "python",
   "name": "python3"
  },
  "language_info": {
   "codemirror_mode": {
    "name": "ipython",
    "version": 3
   },
   "file_extension": ".py",
   "mimetype": "text/x-python",
   "name": "python",
   "nbconvert_exporter": "python",
   "pygments_lexer": "ipython3",
   "version": "3.12.4"
  }
 },
 "nbformat": 4,
 "nbformat_minor": 5
}
