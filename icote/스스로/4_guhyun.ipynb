{
 "cells": [
  {
   "cell_type": "code",
   "execution_count": 1,
   "metadata": {},
   "outputs": [
    {
     "name": "stdout",
     "output_type": "stream",
     "text": [
      "1\n",
      "1\n"
     ]
    }
   ],
   "source": [
    "x, y = (1,1)\n",
    "print(x)\n",
    "print(y)"
   ]
  },
  {
   "cell_type": "code",
   "execution_count": 2,
   "metadata": {},
   "outputs": [
    {
     "data": {
      "text/plain": [
       "(1, 1, -1, 0)"
      ]
     },
     "execution_count": 2,
     "metadata": {},
     "output_type": "execute_result"
    }
   ],
   "source": [
    "(1,1)+(-1,0)"
   ]
  },
  {
   "cell_type": "markdown",
   "metadata": {},
   "source": [
    "# 4-1 상하좌우"
   ]
  },
  {
   "cell_type": "code",
   "execution_count": 15,
   "metadata": {},
   "outputs": [
    {
     "name": "stdout",
     "output_type": "stream",
     "text": [
      "['R', 'R', 'R', 'U', 'D', 'D']\n"
     ]
    }
   ],
   "source": [
    "N=5\n",
    "plans = list('RRRUDD')\n",
    "print(plans)"
   ]
  },
  {
   "cell_type": "code",
   "execution_count": 13,
   "metadata": {},
   "outputs": [
    {
     "name": "stdout",
     "output_type": "stream",
     "text": [
      "R 2 1\n",
      "R 3 1\n",
      "R 4 1\n",
      "D 4 2\n",
      "D 4 3\n",
      "Total:  4 3\n"
     ]
    }
   ],
   "source": [
    "x,y = (1, 1)\n",
    "step = {\n",
    "    'L': (-1,0), \n",
    "    'R': (1,0), \n",
    "    'U': (0,1), \n",
    "    'D': (0,-1)    \n",
    "        }\n",
    "for p in plans:\n",
    "    nx = x+step[p][0]\n",
    "    ny = y+step[p][1]\n",
    "    if nx < 1 or ny < 1 or nx > N or ny > N:\n",
    "        continue\n",
    "    x, y = nx, ny\n",
    "    print(p, x, y)\n",
    "print('Total: ', x, y)"
   ]
  },
  {
   "cell_type": "markdown",
   "metadata": {},
   "source": [
    "- 틀린 이유: 시작점이 하단 왼쪽이라고 생각 + 종횡 방향을 헷갈림\n",
    "실제로는 상단 왼쪽임. \n",
    "- 해결책: L: (0, 1), "
   ]
  },
  {
   "cell_type": "code",
   "execution_count": 17,
   "metadata": {},
   "outputs": [
    {
     "name": "stdout",
     "output_type": "stream",
     "text": [
      "R 1 2\n",
      "R 1 3\n",
      "R 1 4\n",
      "D 2 4\n",
      "D 3 4\n",
      "Total:  3 4\n"
     ]
    }
   ],
   "source": [
    "x,y = (1, 1)\n",
    "step = {\n",
    "    'L': (0, -1), \n",
    "    'R': (0, 1), \n",
    "    'U': (-1, 0), \n",
    "    'D': (1, 0)    \n",
    "        }\n",
    "for p in plans:\n",
    "    nx = x+step[p][0]\n",
    "    ny = y+step[p][1]\n",
    "    if nx < 1 or ny < 1 or nx > N or ny > N:\n",
    "        continue\n",
    "    x, y = nx, ny\n",
    "    print(p, x, y)\n",
    "print('Total: ', x, y)"
   ]
  },
  {
   "cell_type": "markdown",
   "metadata": {},
   "source": [
    "# 4-2 시각"
   ]
  },
  {
   "cell_type": "code",
   "execution_count": 23,
   "metadata": {},
   "outputs": [
    {
     "data": {
      "text/plain": [
       "11475"
      ]
     },
     "execution_count": 23,
     "metadata": {},
     "output_type": "execute_result"
    }
   ],
   "source": [
    "60*60*6 - 5*45*45"
   ]
  },
  {
   "cell_type": "code",
   "execution_count": null,
   "metadata": {},
   "outputs": [],
   "source": [
    "# 입력 받기\n",
    "N = int(input())\n",
    "\n",
    "# 전체 경우의 수\n",
    "total_cases = (N + 1) * 60 * 60\n",
    "\n",
    "# 3이 없는 경우의 수 계산\n",
    "hour_without_3 = (N + 1) - len([h for h in range(N + 1) if '3' in str(h)])  # 3이 없는 시간 개수\n",
    "minute_without_3 = 45  # 3이 없는 분 개수\n",
    "second_without_3 = 45  # 3이 없는 초 개수\n",
    "\n",
    "cases_without_3 = hour_without_3 * minute_without_3 * second_without_3\n",
    "\n",
    "# 최종 정답\n",
    "result = total_cases - cases_without_3\n",
    "\n",
    "print(result)\n"
   ]
  },
  {
   "cell_type": "markdown",
   "metadata": {},
   "source": [
    "차집합의 개념으로 풀기 -> 시, 분, 초 순으로 6*60*60이 전체 경우의 수이고, 3이 하나도 없을 경우의 수는 5*45*45이니까 60*60*6 - 5*45*45\n",
    "\n",
    "이렇게 생각하긴 했는데 비슷한 문제에서 더 많은 예외상황이 발생할 경우를 대비해서 완전탐색으로 푸는게 더 나을 것 같음."
   ]
  },
  {
   "cell_type": "code",
   "execution_count": 24,
   "metadata": {},
   "outputs": [
    {
     "name": "stdout",
     "output_type": "stream",
     "text": [
      "11475\n"
     ]
    }
   ],
   "source": [
    "h = 5\n",
    "cnt = 0\n",
    "for h in range(h+1):\n",
    "    for m in range(60):\n",
    "        for s in range(60):\n",
    "            time = f\"{h}{m}{s}\"\n",
    "            if '3' in time:\n",
    "                cnt += 1\n",
    "\n",
    "print(cnt)"
   ]
  },
  {
   "cell_type": "code",
   "execution_count": null,
   "metadata": {},
   "outputs": [],
   "source": []
  }
 ],
 "metadata": {
  "kernelspec": {
   "display_name": "Python 3",
   "language": "python",
   "name": "python3"
  },
  "language_info": {
   "codemirror_mode": {
    "name": "ipython",
    "version": 3
   },
   "file_extension": ".py",
   "mimetype": "text/x-python",
   "name": "python",
   "nbconvert_exporter": "python",
   "pygments_lexer": "ipython3",
   "version": "3.9.6"
  },
  "orig_nbformat": 4
 },
 "nbformat": 4,
 "nbformat_minor": 2
}
