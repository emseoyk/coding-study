{
 "cells": [
  {
   "cell_type": "code",
   "execution_count": 20,
   "metadata": {},
   "outputs": [],
   "source": [
    "import time"
   ]
  },
  {
   "cell_type": "markdown",
   "metadata": {},
   "source": [
    "# #2"
   ]
  },
  {
   "cell_type": "markdown",
   "metadata": {},
   "source": [
    "## Mine"
   ]
  },
  {
   "cell_type": "code",
   "execution_count": null,
   "metadata": {},
   "outputs": [],
   "source": [
    "n, m, k = map(int, input().split())\n",
    "nums = [int(i) for i in input().split(' ')]"
   ]
  },
  {
   "cell_type": "code",
   "execution_count": null,
   "metadata": {},
   "outputs": [],
   "source": [
    "n, m, k = 5, 7, 2\n",
    "nums = [3, 4, 3, 4, 3]"
   ]
  },
  {
   "cell_type": "code",
   "execution_count": 5,
   "metadata": {},
   "outputs": [
    {
     "name": "stdout",
     "output_type": "stream",
     "text": [
      "1\n",
      "23\n",
      "53\n",
      "53\n"
     ]
    }
   ],
   "source": [
    "n, m, k = 5, 8, 3\n",
    "nums = [2, 4, 5, 4, 6]\n",
    "\n",
    "cnt = 0\n",
    "result = 0\n",
    "nums.sort(reverse=True)\n",
    "\n",
    "\n",
    "if nums[0] != nums[1]:\n",
    "    print('1')\n",
    "    result += nums[0]*k\n",
    "    result += nums[1]\n",
    "    print(result)\n",
    "    if m - (k+1) > 0:\n",
    "        result += nums[0]*(m-k)\n",
    "        print(result)\n",
    "else:\n",
    "    print('2')\n",
    "    result += nums[0]*m\n",
    "    \n",
    "print(result)"
   ]
  },
  {
   "cell_type": "markdown",
   "metadata": {},
   "source": [
    "횟수만 구해서 곱하기. "
   ]
  },
  {
   "cell_type": "code",
   "execution_count": 14,
   "metadata": {},
   "outputs": [
    {
     "name": "stdout",
     "output_type": "stream",
     "text": [
      "3\n",
      "1\n",
      "2\n",
      "-\n",
      "----------\n",
      "5\n",
      "1\n"
     ]
    }
   ],
   "source": [
    "first = 0\n",
    "second = 0\n",
    "m=6\n",
    "k=3\n",
    "while m // k > 0:\n",
    "    first += k\n",
    "    second += 1\n",
    "    m = m-k-1\n",
    "    print(first)\n",
    "    print(second)\n",
    "    print(m)\n",
    "    print('-')\n",
    "first += m%k\n",
    "   \n",
    "print('-'*10) \n",
    "print(first)\n",
    "print(second)\n",
    "\n",
    "result = num[0]*first + num[1]*second"
   ]
  },
  {
   "cell_type": "code",
   "execution_count": 12,
   "metadata": {},
   "outputs": [
    {
     "data": {
      "text/plain": [
       "46"
      ]
     },
     "execution_count": 12,
     "metadata": {},
     "output_type": "execute_result"
    }
   ],
   "source": [
    "6*6 + 5*2"
   ]
  },
  {
   "cell_type": "markdown",
   "metadata": {},
   "source": [
    "## Answer"
   ]
  },
  {
   "cell_type": "code",
   "execution_count": null,
   "metadata": {},
   "outputs": [],
   "source": [
    "n, m, k = map(int, input().split())\n",
    "nums = [int(i) for i in input().split(' ')]\n",
    "\n",
    "nums.sort(reverse=True)\n",
    "first = nums[0]\n",
    "second = nums[1]\n",
    "\n",
    "result = 0\n",
    "\n",
    "while True:\n",
    "    for i in range(k):\n",
    "        if m == 0:\n",
    "            break\n",
    "        result += first\n",
    "        m -= 1\n",
    "    if m == 0:\n",
    "        break\n",
    "    result += second\n",
    "    m -= 1\n",
    "    \n",
    "print(result)\n"
   ]
  },
  {
   "cell_type": "markdown",
   "metadata": {},
   "source": [
    "# #3"
   ]
  },
  {
   "cell_type": "markdown",
   "metadata": {},
   "source": [
    "## mine"
   ]
  },
  {
   "cell_type": "code",
   "execution_count": 19,
   "metadata": {},
   "outputs": [
    {
     "name": "stdout",
     "output_type": "stream",
     "text": [
      "[[3, 1, 2], [4, 1, 4], [2, 2, 2]]\n",
      "2\n"
     ]
    }
   ],
   "source": [
    "# n, m = map(int, input().split())\n",
    "n, m = 3, 3\n",
    "\n",
    "grid = []\n",
    "for i in range(n):\n",
    "    grid.append([int(i) for i in input().split()])\n",
    "least = []\n",
    "for i in range(n):\n",
    "    least.append(min(grid[i]))\n",
    " \n",
    "print(grid)   \n",
    "print(max(least))"
   ]
  },
  {
   "cell_type": "markdown",
   "metadata": {},
   "source": [
    "## answer"
   ]
  },
  {
   "cell_type": "code",
   "execution_count": null,
   "metadata": {},
   "outputs": [],
   "source": [
    "n, m = map(int, input().split())\n",
    "# n, m = 3, 3\n",
    "\n",
    "result = 0\n",
    "\n",
    "for i in range(n):\n",
    "    data = [int(i) for i in input().split()]\n",
    "    min_val = min(data)             # 각 행의 최솟값을 업데이트\n",
    "    result = max(result, min_val)   # 최솟값 중 최댓값을 업데이트\n",
    "\n",
    "print(result)"
   ]
  },
  {
   "cell_type": "markdown",
   "metadata": {},
   "source": [
    "# #4"
   ]
  },
  {
   "cell_type": "markdown",
   "metadata": {},
   "source": [
    "## mine"
   ]
  },
  {
   "cell_type": "code",
   "execution_count": 26,
   "metadata": {},
   "outputs": [
    {
     "data": {
      "text/plain": [
       "1"
      ]
     },
     "execution_count": 26,
     "metadata": {},
     "output_type": "execute_result"
    }
   ],
   "source": [
    "5//5"
   ]
  },
  {
   "cell_type": "code",
   "execution_count": 52,
   "metadata": {},
   "outputs": [
    {
     "name": "stdout",
     "output_type": "stream",
     "text": [
      "1\n",
      "2\n",
      "time:  0.00019598007202148438\n"
     ]
    }
   ],
   "source": [
    "start_time = time.time()\n",
    "# n, k = map(int, input().split())\n",
    "n, k = 13, 4\n",
    "\n",
    "one = 0\n",
    "div = 0\n",
    "\n",
    "if n%k == 0:\n",
    "    print('.')\n",
    "    while n//k > 1:\n",
    "        div += 1\n",
    "        n = n//k\n",
    "    if n//k == 1:\n",
    "        div += 1\n",
    "        \n",
    "    print(div)\n",
    "        \n",
    "elif n%k != 0:\n",
    "    one = n%k\n",
    "    n = n-(n%k)\n",
    "    while n//k > 1:\n",
    "        div += 1\n",
    "        n = n//k\n",
    "    if n//k == 1:\n",
    "        div += 1\n",
    "    print(div)\n",
    "        \n",
    "result = one+div\n",
    "print(result)\n",
    "\n",
    "end_time = time.time()\n",
    "print('time: ', end_time-start_time)"
   ]
  },
  {
   "cell_type": "code",
   "execution_count": 48,
   "metadata": {},
   "outputs": [
    {
     "name": "stdout",
     "output_type": "stream",
     "text": [
      "1\n",
      "1\n",
      "2\n"
     ]
    }
   ],
   "source": [
    "# 위 코드 간소화하기\n",
    "n, k = 13, 4\n",
    "\n",
    "one = 0\n",
    "div = 0\n",
    "\n",
    "one = n%k\n",
    "\n",
    "n = n-n%k\n",
    "\n",
    "while n//k > 1:\n",
    "    div += 1\n",
    "    n = n//k\n",
    "# one += (n%k-1)\n",
    "\n",
    "print(one)\n",
    "print(div)\n",
    "print(one+div)"
   ]
  },
  {
   "cell_type": "code",
   "execution_count": 62,
   "metadata": {},
   "outputs": [
    {
     "name": "stdout",
     "output_type": "stream",
     "text": [
      "2\n"
     ]
    }
   ],
   "source": [
    "n, k = 25, 5\n",
    "\n",
    "cnt = 0\n",
    "cnt += n%k\n",
    "n = n-n%k\n",
    "\n",
    "while n > 1:\n",
    "    # n이 k의 배수가 될 때까지 1씩 빼기\n",
    "    n = n-n%k   \n",
    "    cnt += n%k\n",
    "\n",
    "    # n을 k로 나누기\n",
    "    n = n//k\n",
    "    cnt += 1\n",
    "    \n",
    "    # 더이상 k로 나눌 수 없을 때 끊고 나가서 \n",
    "    if n < k:\n",
    "        break\n",
    "        \n",
    "# n이 1이 되기 위해 빼야하는 n-1만큼 더하기\n",
    "cnt += (n-1)\n",
    "        \n",
    "print(cnt)\n",
    "        "
   ]
  },
  {
   "cell_type": "markdown",
   "metadata": {},
   "source": [
    "## answer"
   ]
  },
  {
   "cell_type": "code",
   "execution_count": 53,
   "metadata": {},
   "outputs": [
    {
     "name": "stdout",
     "output_type": "stream",
     "text": [
      "4\n"
     ]
    }
   ],
   "source": [
    "n, k = 13, 4\n",
    "result = 0\n",
    "while True:\n",
    "    target = (n//k)*k\n",
    "    result += (n-target)\n",
    "    n=target\n",
    "    \n",
    "    if n < k:\n",
    "        break\n",
    "    result += 1\n",
    "    n=n//k\n",
    "    \n",
    "result += (n-1)\n",
    "print(result)"
   ]
  }
 ],
 "metadata": {
  "kernelspec": {
   "display_name": "Python 3",
   "language": "python",
   "name": "python3"
  },
  "language_info": {
   "codemirror_mode": {
    "name": "ipython",
    "version": 3
   },
   "file_extension": ".py",
   "mimetype": "text/x-python",
   "name": "python",
   "nbconvert_exporter": "python",
   "pygments_lexer": "ipython3",
   "version": "3.9.6"
  },
  "orig_nbformat": 4
 },
 "nbformat": 4,
 "nbformat_minor": 2
}
