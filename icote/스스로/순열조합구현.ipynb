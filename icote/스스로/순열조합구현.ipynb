{
 "cells": [
  {
   "cell_type": "markdown",
   "metadata": {},
   "source": [
    "itertools 없이 순열, 조합 구현해보기"
   ]
  },
  {
   "cell_type": "markdown",
   "metadata": {},
   "source": [
    "# 순열\n",
    "설명: 순서를 고려하여 서로 다른 항목을 중복 없이 나열\n",
    "\n",
    "예: ['A', 'B', 'C'] → ABC, ACB, BAC, ..."
   ]
  },
  {
   "cell_type": "code",
   "execution_count": 1,
   "metadata": {},
   "outputs": [
    {
     "name": "stdout",
     "output_type": "stream",
     "text": [
      "[['A', 'B', 'C'], ['A', 'C', 'B'], ['B', 'A', 'C'], ['B', 'C', 'A'], ['C', 'A', 'B'], ['C', 'B', 'A']]\n"
     ]
    }
   ],
   "source": [
    "def permutation(arr, path, used, result):\n",
    "    if len(path) == len(arr):\n",
    "        result.append(path[:])\n",
    "        return\n",
    "\n",
    "    for i in range(len(arr)):\n",
    "        if not used[i]:\n",
    "            used[i] = True\n",
    "            path.append(arr[i])\n",
    "            permutation(arr, path, used, result)\n",
    "            path.pop()\n",
    "            used[i] = False\n",
    "\n",
    "# 사용 예시\n",
    "arr = ['A', 'B', 'C']\n",
    "result = []\n",
    "used = [False] * len(arr)\n",
    "permutation(arr, [], used, result)\n",
    "print(result)\n"
   ]
  },
  {
   "cell_type": "markdown",
   "metadata": {},
   "source": [
    "# 중복순열\n",
    "설명: 순서를 고려하며 중복을 허용해서 나열\n",
    "\n",
    "예: ['A', 'B'], 길이 2 → AA, AB, BA, BB"
   ]
  },
  {
   "cell_type": "code",
   "execution_count": 3,
   "metadata": {},
   "outputs": [
    {
     "name": "stdout",
     "output_type": "stream",
     "text": [
      "[['A', 'A'], ['A', 'B'], ['B', 'A'], ['B', 'B']]\n"
     ]
    }
   ],
   "source": [
    "def repeat_permutation(arr, path, length, result):\n",
    "    if len(path) == length:\n",
    "        result.append(path[:])\n",
    "        return\n",
    "\n",
    "    for i in range(len(arr)):\n",
    "        path.append(arr[i])\n",
    "        repeat_permutation(arr, path, length, result)\n",
    "        path.pop()\n",
    "\n",
    "# 사용 예시\n",
    "arr = ['A', 'B']\n",
    "result = []\n",
    "repeat_permutation(arr, [], 2, result)\n",
    "print(result)\n"
   ]
  },
  {
   "cell_type": "markdown",
   "metadata": {},
   "source": [
    "# 조합\n",
    "설명: 순서를 고려하지 않고, 중복 없이 일부를 선택\n",
    "\n",
    "예: ['A', 'B', 'C'], 2개 선택 → AB, AC, BC (BA는 중복)"
   ]
  },
  {
   "cell_type": "code",
   "execution_count": 2,
   "metadata": {},
   "outputs": [
    {
     "name": "stdout",
     "output_type": "stream",
     "text": [
      "[['A', 'B'], ['A', 'C'], ['B', 'C']]\n"
     ]
    }
   ],
   "source": [
    "def combination(arr, path, start, length, result):\n",
    "    if len(path) == length:\n",
    "        result.append(path[:])\n",
    "        return\n",
    "\n",
    "    for i in range(start, len(arr)):\n",
    "        path.append(arr[i])\n",
    "        combination(arr, path, i + 1, length, result)\n",
    "        path.pop()\n",
    "\n",
    "# 사용 예시\n",
    "arr = ['A', 'B', 'C']\n",
    "result = []\n",
    "combination(arr, [], 0, 2, result)\n",
    "print(result)\n"
   ]
  },
  {
   "cell_type": "markdown",
   "metadata": {},
   "source": [
    "# 중복 조합\n",
    "설명: 순서는 고려하지 않지만, 중복을 허용한 선택\n",
    "\n",
    "예: ['A', 'B'], 2개 선택 → AA, AB, BB (BA는 중복)"
   ]
  },
  {
   "cell_type": "code",
   "execution_count": 4,
   "metadata": {},
   "outputs": [
    {
     "name": "stdout",
     "output_type": "stream",
     "text": [
      "[['A', 'A'], ['A', 'B'], ['B', 'B']]\n"
     ]
    }
   ],
   "source": [
    "def repeat_combination(arr, path, start, length, result):\n",
    "    if len(path) == length:\n",
    "        result.append(path[:])\n",
    "        return\n",
    "\n",
    "    for i in range(start, len(arr)):\n",
    "        path.append(arr[i])\n",
    "        repeat_combination(arr, path, i, length, result)  # i 그대로!\n",
    "        path.pop()\n",
    "\n",
    "# 사용 예시\n",
    "arr = ['A', 'B']\n",
    "result = []\n",
    "repeat_combination(arr, [], 0, 2, result)\n",
    "print(result)\n"
   ]
  }
 ],
 "metadata": {
  "kernelspec": {
   "display_name": "Python 3",
   "language": "python",
   "name": "python3"
  },
  "language_info": {
   "codemirror_mode": {
    "name": "ipython",
    "version": 3
   },
   "file_extension": ".py",
   "mimetype": "text/x-python",
   "name": "python",
   "nbconvert_exporter": "python",
   "pygments_lexer": "ipython3",
   "version": "3.9.6"
  },
  "orig_nbformat": 4
 },
 "nbformat": 4,
 "nbformat_minor": 2
}
