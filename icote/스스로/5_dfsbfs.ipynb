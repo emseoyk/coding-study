{
 "cells": [
  {
   "cell_type": "markdown",
   "metadata": {},
   "source": [
    "3은 상하좌우 다 살펴봐야 하니까 DFS고, 4는 길 탐색하다가 괴물 만나면 되돌아가야 하니까 BFS?"
   ]
  },
  {
   "cell_type": "markdown",
   "metadata": {},
   "source": [
    "# 3 음료수 얼려먹기"
   ]
  },
  {
   "cell_type": "code",
   "execution_count": 1,
   "metadata": {},
   "outputs": [],
   "source": [
    "test_input1 = ''''3 3\n",
    "001\n",
    "010\n",
    "101\n",
    "'''\n",
    "\n",
    "test_input2 = '''4 5\n",
    "00110\n",
    "00011\n",
    "11111\n",
    "00000'''"
   ]
  },
  {
   "cell_type": "markdown",
   "metadata": {},
   "source": [
    "1. 한 지점에서 상하좌우 모두 살펴본 뒤, 주변 중에 0이고 아직 방문 안 한 노드가 있다면 방문\n",
    "2. 방문한 지점에서 다시 살펴보고 방문을 진행하면 연결된 모든 지점 방문 가능\n",
    "3. 방문하지 않은 지점 수 세기"
   ]
  },
  {
   "cell_type": "code",
   "execution_count": 5,
   "metadata": {},
   "outputs": [],
   "source": [
    "# n, m = map(int, input().split())\n",
    "n, m = 3, 3\n",
    "graph = [\n",
    "    [0, 0, 1], \n",
    "    [0, 1, 0], \n",
    "    [1, 0, 1]\n",
    "]\n",
    "\n",
    "def dfs(x, y): # x, y는 좌표\n",
    "    if x <= -1 or x >= n or y <= -1 or y >= m: # 주어진 범위를 벗어나는 경우에는 즉시 종료\n",
    "        return False\n",
    "    \n",
    "    if graph[x][y] == 0: # 이 노드가 아직 방문 안 한 노드일 때\n",
    "        graph[x][y] = 1  # 방문 처리\n",
    "        dfs(x-1, y)\n",
    "        dfs(x+1, y)\n",
    "        dfs(x, y-1)\n",
    "        dfs(x, y+1)      # 상하좌우 모두 재귀함수로 똑같이 살피기\n",
    "        return True      # 다 돌면 True 반환\n",
    "    return False         # 그 자리가 1이면 (상하좌우 좌표 포함) 끝남"
   ]
  },
  {
   "cell_type": "code",
   "execution_count": 6,
   "metadata": {},
   "outputs": [
    {
     "name": "stdout",
     "output_type": "stream",
     "text": [
      "1\n"
     ]
    }
   ],
   "source": [
    "result = 0\n",
    "for i in range(n):\n",
    "    for j in range(m):\n",
    "        if dfs(i, j) == True:\n",
    "            result += 1\n",
    "            \n",
    "print(result)"
   ]
  },
  {
   "cell_type": "markdown",
   "metadata": {},
   "source": [
    "# 4 미로 탈출"
   ]
  },
  {
   "cell_type": "code",
   "execution_count": 7,
   "metadata": {},
   "outputs": [],
   "source": [
    "n, m = 3, 3\n",
    "graph = [\n",
    "    [1, 1, 0], \n",
    "    [0, 1, 0], \n",
    "    [0, 1, 1]\n",
    "]"
   ]
  },
  {
   "cell_type": "code",
   "execution_count": null,
   "metadata": {},
   "outputs": [],
   "source": [
    "from collections import deque\n",
    "\n",
    "# 이동할 네 가지 방향 정의 (상, 하, 좌, 우)\n",
    "dx = [-1, 1, 0, 0]\n",
    "dy = [0, 0, -1, 1]\n",
    "\n",
    "# BFS 소스코드 구현\n",
    "def bfs(x, y):\n",
    "    # 큐(Queue) 구현을 위해 deque 라이브러리 사용\n",
    "    queue = deque()\n",
    "    queue.append((x, y))\n",
    "    # 큐가 빌 때까지 반복하기\n",
    "    while queue:\n",
    "        x, y = queue.popleft()\n",
    "        # 현재 위치에서 4가지 방향으로의 위치 확인\n",
    "        for i in range(4):\n",
    "            nx = x + dx[i]\n",
    "            ny = y + dy[i]\n",
    "            # 미로 찾기 공간을 벗어난 경우 무시\n",
    "            if nx < 0 or nx >= n or ny < 0 or ny >= m:\n",
    "                continue\n",
    "            # 벽인 경우 무시\n",
    "            if graph[nx][ny] == 0:\n",
    "                continue\n",
    "            # 해당 노드를 처음 방문하는 경우에만 최단 거리 기록\n",
    "            if graph[nx][ny] == 1:\n",
    "                graph[nx][ny] = graph[x][y] + 1\n",
    "                queue.append((nx, ny))\n",
    "    # 가장 오른쪽 아래까지의 최단 거리 반환\n",
    "    return graph[n - 1][m - 1]\n",
    "\n",
    "# BFS를 수행한 결과 출력\n",
    "print(bfs(0, 0))\n"
   ]
  }
 ],
 "metadata": {
  "kernelspec": {
   "display_name": "Python 3",
   "language": "python",
   "name": "python3"
  },
  "language_info": {
   "codemirror_mode": {
    "name": "ipython",
    "version": 3
   },
   "file_extension": ".py",
   "mimetype": "text/x-python",
   "name": "python",
   "nbconvert_exporter": "python",
   "pygments_lexer": "ipython3",
   "version": "3.9.6"
  },
  "orig_nbformat": 4
 },
 "nbformat": 4,
 "nbformat_minor": 2
}
