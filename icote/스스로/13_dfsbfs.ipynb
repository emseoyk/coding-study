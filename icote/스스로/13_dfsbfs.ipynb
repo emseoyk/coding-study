{
 "cells": [
  {
   "cell_type": "markdown",
   "metadata": {},
   "source": [
    "# 16 연구소 (삼전 SW 역량테스트)"
   ]
  },
  {
   "cell_type": "markdown",
   "metadata": {},
   "source": [
    "1. (n*m)C3으로 조합 구현해서 리스트에 저장\n",
    "2. 각 연구소 맵 기준으로 바이러스 퍼뜨린 다음 0 개수 세기"
   ]
  },
  {
   "cell_type": "code",
   "execution_count": 82,
   "metadata": {},
   "outputs": [],
   "source": [
    "n,m = 7, 7\n",
    "lab = [[2, 0, 0, 0, 1, 1, 0], \n",
    "       [0, 0, 1, 0, 1, 2, 0],\n",
    "       [0, 1, 1, 0, 1, 0, 0],\n",
    "       [0, 1, 0, 0, 0, 0, 0],\n",
    "       [0, 0, 0, 0, 0, 1, 1],\n",
    "       [0, 1, 0, 0, 0, 0, 0],\n",
    "       [0, 1, 0, 0, 0, 0, 0]]"
   ]
  },
  {
   "cell_type": "code",
   "execution_count": 89,
   "metadata": {},
   "outputs": [],
   "source": [
    "answer = [\n",
    "    [2, 1, 0, 0, 1, 1, 0], \n",
    "    [1, 0, 1, 0, 1, 2, 0],\n",
    "    [0, 1, 1, 0, 1, 0, 0],\n",
    "    [0, 1, 0, 0, 0, 1, 0],\n",
    "    [0, 0, 0, 0, 0, 1, 1],\n",
    "    [0, 1, 0, 0, 0, 0, 0],\n",
    "    [0, 1, 0, 0, 0, 0, 0]\n",
    "            ]"
   ]
  },
  {
   "cell_type": "code",
   "execution_count": 27,
   "metadata": {},
   "outputs": [],
   "source": [
    "def combination(arr, r):\n",
    "    arr = sorted(arr)\n",
    "    visited = [False for _ in range(len(arr))]\n",
    "\n",
    "    def generate(chosen, idx):\n",
    "        if len(chosen) == r:\n",
    "            print(chosen)\n",
    "            return\n",
    "\n",
    "        for i in range(idx, len(arr)):\n",
    "            if not visited[i]:\n",
    "                chosen.append(arr[i])\n",
    "                visited[i] = True\n",
    "                generate(chosen , idx+1)\n",
    "                visited[i] = False\n",
    "                chosen.pop()\n",
    "    generate([],0)"
   ]
  },
  {
   "cell_type": "code",
   "execution_count": 28,
   "metadata": {},
   "outputs": [
    {
     "name": "stdout",
     "output_type": "stream",
     "text": [
      "[1, 2]\n",
      "[1, 3]\n",
      "[2, 3]\n",
      "[3, 2]\n"
     ]
    }
   ],
   "source": [
    "combination([1, 2, 3], 2)"
   ]
  },
  {
   "cell_type": "code",
   "execution_count": 24,
   "metadata": {},
   "outputs": [],
   "source": [
    "from collections import deque\n",
    "import copy\n",
    "\n",
    "\n",
    "# 조합 구하기\n",
    "combis = []\n",
    "wall = 0\n",
    "while True:\n",
    "    for i in range(n):\n",
    "        for j in range(m):\n",
    "            visited = [[0]*m for _ in range(n)]\n",
    "            temp = copy.deepcopy(lab)\n",
    "            if visited[i][j] == 0 and temp[i][j] == 0:\n",
    "                temp[i][j] = 1\n",
    "                visited[i][j] = 1\n",
    "                wall += 1\n",
    "                combis.append(temp)\n",
    "    if wall >= 3:\n",
    "        break"
   ]
  },
  {
   "cell_type": "code",
   "execution_count": 83,
   "metadata": {},
   "outputs": [],
   "source": [
    "combis = []\n",
    "def wall(cnt):\n",
    "    global combis\n",
    "    if cnt == 3:\n",
    "        return combis\n",
    "    \n",
    "    for i in range(n):\n",
    "        for j in range(m):\n",
    "            if lab[i][j] == 0:\n",
    "                lab[i][j] = 1\n",
    "                wall(cnt+1)\n",
    "                combis.append(lab)\n",
    "                lab[i][j] = 0 # 원상복귀"
   ]
  },
  {
   "cell_type": "code",
   "execution_count": 84,
   "metadata": {},
   "outputs": [],
   "source": [
    "wall(0)"
   ]
  },
  {
   "cell_type": "code",
   "execution_count": 91,
   "metadata": {},
   "outputs": [
    {
     "data": {
      "text/plain": [
       "40495"
      ]
     },
     "execution_count": 91,
     "metadata": {},
     "output_type": "execute_result"
    }
   ],
   "source": [
    "len(combis)"
   ]
  },
  {
   "cell_type": "code",
   "execution_count": 92,
   "metadata": {},
   "outputs": [],
   "source": [
    "for c in combis:\n",
    "    if answer == c:\n",
    "        print(c)"
   ]
  },
  {
   "cell_type": "code",
   "execution_count": 86,
   "metadata": {},
   "outputs": [
    {
     "data": {
      "text/plain": [
       "[[2, 0, 0, 0, 1, 1, 0],\n",
       " [0, 0, 1, 0, 1, 2, 0],\n",
       " [0, 1, 1, 0, 1, 0, 0],\n",
       " [0, 1, 0, 0, 0, 0, 0],\n",
       " [0, 0, 0, 0, 0, 1, 1],\n",
       " [0, 1, 0, 0, 0, 0, 0],\n",
       " [0, 1, 0, 0, 0, 0, 0]]"
      ]
     },
     "execution_count": 86,
     "metadata": {},
     "output_type": "execute_result"
    }
   ],
   "source": [
    "combis[0]"
   ]
  },
  {
   "cell_type": "code",
   "execution_count": null,
   "metadata": {},
   "outputs": [],
   "source": [
    "\n",
    "# 바이러스 퍼뜨리기\n",
    "def virus(lab):\n",
    "\n",
    "    queue = deque()\n",
    "    for i in range(n):\n",
    "        for j in range(m):\n",
    "            if lab[i][j] == 2:\n",
    "                queue.append((i, j))\n",
    "    \n",
    "    while queue:\n",
    "        x,y = queue.popleft()\n",
    "        for dx, dy in [(1, 0), (-1, 0), (0, 1), (0, -1)]:\n",
    "            nx = x+dx\n",
    "            ny = y+dy\n",
    "            \n",
    "            if nx < 0 or ny < 0 or nx >= n or ny >= m:\n",
    "                continue\n",
    "            \n",
    "            if lab[nx][ny] == 0:\n",
    "                lab[nx][ny] = 2\n",
    "                queue.append((nx,ny))\n",
    "\n",
    "    cnt = 0\n",
    "    for i in range(n):\n",
    "        for j in range(m):\n",
    "            if lab[i][j] == 0:\n",
    "                cnt += 1\n",
    "    return cnt\n",
    "            \n",
    "\n",
    "result = 0\n",
    "for lab in combis:\n",
    "    cnt = virus(lab)\n",
    "    result = max(result, cnt)\n",
    "        \n",
    "print(result)"
   ]
  },
  {
   "cell_type": "code",
   "execution_count": 93,
   "metadata": {},
   "outputs": [
    {
     "name": "stdout",
     "output_type": "stream",
     "text": [
      "[[2, 1, 0, 0, 1, 1, 2], [1, 0, 1, 0, 1, 2, 2], [0, 1, 1, 0, 1, 2, 2], [0, 1, 0, 0, 0, 1, 2], [0, 0, 0, 0, 0, 1, 1], [0, 1, 0, 0, 0, 0, 0], [0, 1, 0, 0, 0, 0, 0]]\n",
      "27\n"
     ]
    }
   ],
   "source": [
    "print(virus(answer))"
   ]
  },
  {
   "cell_type": "markdown",
   "metadata": {},
   "source": [
    "# 19 연산자 끼워넣기 (삼전 SW 역량테스트)"
   ]
  },
  {
   "cell_type": "code",
   "execution_count": 136,
   "metadata": {},
   "outputs": [],
   "source": [
    "n=2\n",
    "nums='5 6'\n",
    "ops = '1 2 3 0'\n",
    "num_list = [int(i) for i in nums.split()]"
   ]
  },
  {
   "cell_type": "code",
   "execution_count": 139,
   "metadata": {},
   "outputs": [
    {
     "data": {
      "text/plain": [
       "'+--***'"
      ]
     },
     "execution_count": 139,
     "metadata": {},
     "output_type": "execute_result"
    }
   ],
   "source": [
    "op_list = ''\n",
    "for i, num in enumerate(ops.split()):\n",
    "    num = int(num)\n",
    "    if i == 0 and num!=0:\n",
    "        op_list += '+'*num\n",
    "    if i == 1 and num!=0:\n",
    "        op_list += '-'*num\n",
    "    if i == 2 and num!=0:\n",
    "        op_list += '*'*num\n",
    "    if i == 3 and num!=0:\n",
    "        op_list += '%'*num\n",
    "op_list"
   ]
  },
  {
   "cell_type": "code",
   "execution_count": null,
   "metadata": {},
   "outputs": [],
   "source": [
    "# 중복순열 구하기\n",
    "op_coms = []"
   ]
  },
  {
   "cell_type": "code",
   "execution_count": 120,
   "metadata": {},
   "outputs": [
    {
     "name": "stdout",
     "output_type": "stream",
     "text": [
      "총 조합 수: 60\n",
      "1: AABCCC\n",
      "2: AACBCC\n",
      "3: AACCBC\n",
      "4: AACCCB\n",
      "5: ABACCC\n",
      "6: ABCACC\n",
      "7: ABCCAC\n",
      "8: ABCCCA\n",
      "9: ACABCC\n",
      "10: ACACBC\n"
     ]
    }
   ],
   "source": [
    "# gpt가 짠 코드\n",
    "def generate_permutations(counter, path, total_len, result):\n",
    "    if len(path) == total_len:\n",
    "        result.append(''.join(path))\n",
    "        return\n",
    "    \n",
    "    for card in counter:\n",
    "        if counter[card] > 0:\n",
    "            counter[card] -= 1\n",
    "            path.append(card)\n",
    "\n",
    "            generate_permutations(counter, path, total_len, result)\n",
    "\n",
    "            path.pop()\n",
    "            counter[card] += 1\n",
    "\n",
    "# 카드 종류 및 개수\n",
    "card_counts = {'A': 2, 'B': 1, 'C': 3}\n",
    "total_len = sum(card_counts.values())\n",
    "result = []\n",
    "\n",
    "generate_permutations(card_counts.copy(), [], total_len, result)\n",
    "\n",
    "# 결과 출력\n",
    "print(f\"총 조합 수: {len(result)}\")\n",
    "for i, r in enumerate(result[:10]):  # 너무 많으니까 10개만 예시 출력\n",
    "    print(f\"{i+1}: {r}\")\n",
    "    \n"
   ]
  },
  {
   "cell_type": "code",
   "execution_count": 142,
   "metadata": {},
   "outputs": [
    {
     "name": "stdout",
     "output_type": "stream",
     "text": [
      "▶ 호출: path = [], counter = {'A': 2, 'B': 1, 'C': 2}\n",
      "👉 선택: A → path: ['A'], counter: {'A': 1, 'B': 1, 'C': 2}\n",
      "  ▶ 호출: path = ['A'], counter = {'A': 1, 'B': 1, 'C': 2}\n",
      "  👉 선택: A → path: ['A', 'A'], counter: {'A': 0, 'B': 1, 'C': 2}\n",
      "    ▶ 호출: path = ['A', 'A'], counter = {'A': 0, 'B': 1, 'C': 2}\n",
      "    👉 선택: B → path: ['A', 'A', 'B'], counter: {'A': 0, 'B': 0, 'C': 2}\n",
      "      ▶ 호출: path = ['A', 'A', 'B'], counter = {'A': 0, 'B': 0, 'C': 2}\n",
      "      👉 선택: C → path: ['A', 'A', 'B', 'C'], counter: {'A': 0, 'B': 0, 'C': 1}\n",
      "        ▶ 호출: path = ['A', 'A', 'B', 'C'], counter = {'A': 0, 'B': 0, 'C': 1}\n",
      "        👉 선택: C → path: ['A', 'A', 'B', 'C', 'C'], counter: {'A': 0, 'B': 0, 'C': 0}\n",
      "          ▶ 호출: path = ['A', 'A', 'B', 'C', 'C'], counter = {'A': 0, 'B': 0, 'C': 0}\n",
      "          ✅ 완료: AABCC\n",
      "        🔙 백트래킹: C 제거 → path: ['A', 'A', 'B', 'C'], counter: {'A': 0, 'B': 0, 'C': 1}\n",
      "      🔙 백트래킹: C 제거 → path: ['A', 'A', 'B'], counter: {'A': 0, 'B': 0, 'C': 2}\n",
      "    🔙 백트래킹: B 제거 → path: ['A', 'A'], counter: {'A': 0, 'B': 1, 'C': 2}\n",
      "    👉 선택: C → path: ['A', 'A', 'C'], counter: {'A': 0, 'B': 1, 'C': 1}\n",
      "      ▶ 호출: path = ['A', 'A', 'C'], counter = {'A': 0, 'B': 1, 'C': 1}\n",
      "      👉 선택: B → path: ['A', 'A', 'C', 'B'], counter: {'A': 0, 'B': 0, 'C': 1}\n",
      "        ▶ 호출: path = ['A', 'A', 'C', 'B'], counter = {'A': 0, 'B': 0, 'C': 1}\n",
      "        👉 선택: C → path: ['A', 'A', 'C', 'B', 'C'], counter: {'A': 0, 'B': 0, 'C': 0}\n",
      "          ▶ 호출: path = ['A', 'A', 'C', 'B', 'C'], counter = {'A': 0, 'B': 0, 'C': 0}\n",
      "          ✅ 완료: AACBC\n",
      "        🔙 백트래킹: C 제거 → path: ['A', 'A', 'C', 'B'], counter: {'A': 0, 'B': 0, 'C': 1}\n",
      "      🔙 백트래킹: B 제거 → path: ['A', 'A', 'C'], counter: {'A': 0, 'B': 1, 'C': 1}\n",
      "      👉 선택: C → path: ['A', 'A', 'C', 'C'], counter: {'A': 0, 'B': 1, 'C': 0}\n",
      "        ▶ 호출: path = ['A', 'A', 'C', 'C'], counter = {'A': 0, 'B': 1, 'C': 0}\n",
      "        👉 선택: B → path: ['A', 'A', 'C', 'C', 'B'], counter: {'A': 0, 'B': 0, 'C': 0}\n",
      "          ▶ 호출: path = ['A', 'A', 'C', 'C', 'B'], counter = {'A': 0, 'B': 0, 'C': 0}\n",
      "          ✅ 완료: AACCB\n",
      "        🔙 백트래킹: B 제거 → path: ['A', 'A', 'C', 'C'], counter: {'A': 0, 'B': 1, 'C': 0}\n",
      "      🔙 백트래킹: C 제거 → path: ['A', 'A', 'C'], counter: {'A': 0, 'B': 1, 'C': 1}\n",
      "    🔙 백트래킹: C 제거 → path: ['A', 'A'], counter: {'A': 0, 'B': 1, 'C': 2}\n",
      "  🔙 백트래킹: A 제거 → path: ['A'], counter: {'A': 1, 'B': 1, 'C': 2}\n",
      "  👉 선택: B → path: ['A', 'B'], counter: {'A': 1, 'B': 0, 'C': 2}\n",
      "    ▶ 호출: path = ['A', 'B'], counter = {'A': 1, 'B': 0, 'C': 2}\n",
      "    👉 선택: A → path: ['A', 'B', 'A'], counter: {'A': 0, 'B': 0, 'C': 2}\n",
      "      ▶ 호출: path = ['A', 'B', 'A'], counter = {'A': 0, 'B': 0, 'C': 2}\n",
      "      👉 선택: C → path: ['A', 'B', 'A', 'C'], counter: {'A': 0, 'B': 0, 'C': 1}\n",
      "        ▶ 호출: path = ['A', 'B', 'A', 'C'], counter = {'A': 0, 'B': 0, 'C': 1}\n",
      "        👉 선택: C → path: ['A', 'B', 'A', 'C', 'C'], counter: {'A': 0, 'B': 0, 'C': 0}\n",
      "          ▶ 호출: path = ['A', 'B', 'A', 'C', 'C'], counter = {'A': 0, 'B': 0, 'C': 0}\n",
      "          ✅ 완료: ABACC\n",
      "        🔙 백트래킹: C 제거 → path: ['A', 'B', 'A', 'C'], counter: {'A': 0, 'B': 0, 'C': 1}\n",
      "      🔙 백트래킹: C 제거 → path: ['A', 'B', 'A'], counter: {'A': 0, 'B': 0, 'C': 2}\n",
      "    🔙 백트래킹: A 제거 → path: ['A', 'B'], counter: {'A': 1, 'B': 0, 'C': 2}\n",
      "    👉 선택: C → path: ['A', 'B', 'C'], counter: {'A': 1, 'B': 0, 'C': 1}\n",
      "      ▶ 호출: path = ['A', 'B', 'C'], counter = {'A': 1, 'B': 0, 'C': 1}\n",
      "      👉 선택: A → path: ['A', 'B', 'C', 'A'], counter: {'A': 0, 'B': 0, 'C': 1}\n",
      "        ▶ 호출: path = ['A', 'B', 'C', 'A'], counter = {'A': 0, 'B': 0, 'C': 1}\n",
      "        👉 선택: C → path: ['A', 'B', 'C', 'A', 'C'], counter: {'A': 0, 'B': 0, 'C': 0}\n",
      "          ▶ 호출: path = ['A', 'B', 'C', 'A', 'C'], counter = {'A': 0, 'B': 0, 'C': 0}\n",
      "          ✅ 완료: ABCAC\n",
      "        🔙 백트래킹: C 제거 → path: ['A', 'B', 'C', 'A'], counter: {'A': 0, 'B': 0, 'C': 1}\n",
      "      🔙 백트래킹: A 제거 → path: ['A', 'B', 'C'], counter: {'A': 1, 'B': 0, 'C': 1}\n",
      "      👉 선택: C → path: ['A', 'B', 'C', 'C'], counter: {'A': 1, 'B': 0, 'C': 0}\n",
      "        ▶ 호출: path = ['A', 'B', 'C', 'C'], counter = {'A': 1, 'B': 0, 'C': 0}\n",
      "        👉 선택: A → path: ['A', 'B', 'C', 'C', 'A'], counter: {'A': 0, 'B': 0, 'C': 0}\n",
      "          ▶ 호출: path = ['A', 'B', 'C', 'C', 'A'], counter = {'A': 0, 'B': 0, 'C': 0}\n",
      "          ✅ 완료: ABCCA\n",
      "        🔙 백트래킹: A 제거 → path: ['A', 'B', 'C', 'C'], counter: {'A': 1, 'B': 0, 'C': 0}\n",
      "      🔙 백트래킹: C 제거 → path: ['A', 'B', 'C'], counter: {'A': 1, 'B': 0, 'C': 1}\n",
      "    🔙 백트래킹: C 제거 → path: ['A', 'B'], counter: {'A': 1, 'B': 0, 'C': 2}\n",
      "  🔙 백트래킹: B 제거 → path: ['A'], counter: {'A': 1, 'B': 1, 'C': 2}\n",
      "  👉 선택: C → path: ['A', 'C'], counter: {'A': 1, 'B': 1, 'C': 1}\n",
      "    ▶ 호출: path = ['A', 'C'], counter = {'A': 1, 'B': 1, 'C': 1}\n",
      "    👉 선택: A → path: ['A', 'C', 'A'], counter: {'A': 0, 'B': 1, 'C': 1}\n",
      "      ▶ 호출: path = ['A', 'C', 'A'], counter = {'A': 0, 'B': 1, 'C': 1}\n",
      "      👉 선택: B → path: ['A', 'C', 'A', 'B'], counter: {'A': 0, 'B': 0, 'C': 1}\n",
      "        ▶ 호출: path = ['A', 'C', 'A', 'B'], counter = {'A': 0, 'B': 0, 'C': 1}\n",
      "        👉 선택: C → path: ['A', 'C', 'A', 'B', 'C'], counter: {'A': 0, 'B': 0, 'C': 0}\n",
      "          ▶ 호출: path = ['A', 'C', 'A', 'B', 'C'], counter = {'A': 0, 'B': 0, 'C': 0}\n",
      "          ✅ 완료: ACABC\n",
      "        🔙 백트래킹: C 제거 → path: ['A', 'C', 'A', 'B'], counter: {'A': 0, 'B': 0, 'C': 1}\n",
      "      🔙 백트래킹: B 제거 → path: ['A', 'C', 'A'], counter: {'A': 0, 'B': 1, 'C': 1}\n",
      "      👉 선택: C → path: ['A', 'C', 'A', 'C'], counter: {'A': 0, 'B': 1, 'C': 0}\n",
      "        ▶ 호출: path = ['A', 'C', 'A', 'C'], counter = {'A': 0, 'B': 1, 'C': 0}\n",
      "        👉 선택: B → path: ['A', 'C', 'A', 'C', 'B'], counter: {'A': 0, 'B': 0, 'C': 0}\n",
      "          ▶ 호출: path = ['A', 'C', 'A', 'C', 'B'], counter = {'A': 0, 'B': 0, 'C': 0}\n",
      "          ✅ 완료: ACACB\n",
      "        🔙 백트래킹: B 제거 → path: ['A', 'C', 'A', 'C'], counter: {'A': 0, 'B': 1, 'C': 0}\n",
      "      🔙 백트래킹: C 제거 → path: ['A', 'C', 'A'], counter: {'A': 0, 'B': 1, 'C': 1}\n",
      "    🔙 백트래킹: A 제거 → path: ['A', 'C'], counter: {'A': 1, 'B': 1, 'C': 1}\n",
      "    👉 선택: B → path: ['A', 'C', 'B'], counter: {'A': 1, 'B': 0, 'C': 1}\n",
      "      ▶ 호출: path = ['A', 'C', 'B'], counter = {'A': 1, 'B': 0, 'C': 1}\n",
      "      👉 선택: A → path: ['A', 'C', 'B', 'A'], counter: {'A': 0, 'B': 0, 'C': 1}\n",
      "        ▶ 호출: path = ['A', 'C', 'B', 'A'], counter = {'A': 0, 'B': 0, 'C': 1}\n",
      "        👉 선택: C → path: ['A', 'C', 'B', 'A', 'C'], counter: {'A': 0, 'B': 0, 'C': 0}\n",
      "          ▶ 호출: path = ['A', 'C', 'B', 'A', 'C'], counter = {'A': 0, 'B': 0, 'C': 0}\n",
      "          ✅ 완료: ACBAC\n",
      "        🔙 백트래킹: C 제거 → path: ['A', 'C', 'B', 'A'], counter: {'A': 0, 'B': 0, 'C': 1}\n",
      "      🔙 백트래킹: A 제거 → path: ['A', 'C', 'B'], counter: {'A': 1, 'B': 0, 'C': 1}\n",
      "      👉 선택: C → path: ['A', 'C', 'B', 'C'], counter: {'A': 1, 'B': 0, 'C': 0}\n",
      "        ▶ 호출: path = ['A', 'C', 'B', 'C'], counter = {'A': 1, 'B': 0, 'C': 0}\n",
      "        👉 선택: A → path: ['A', 'C', 'B', 'C', 'A'], counter: {'A': 0, 'B': 0, 'C': 0}\n",
      "          ▶ 호출: path = ['A', 'C', 'B', 'C', 'A'], counter = {'A': 0, 'B': 0, 'C': 0}\n",
      "          ✅ 완료: ACBCA\n",
      "        🔙 백트래킹: A 제거 → path: ['A', 'C', 'B', 'C'], counter: {'A': 1, 'B': 0, 'C': 0}\n",
      "      🔙 백트래킹: C 제거 → path: ['A', 'C', 'B'], counter: {'A': 1, 'B': 0, 'C': 1}\n",
      "    🔙 백트래킹: B 제거 → path: ['A', 'C'], counter: {'A': 1, 'B': 1, 'C': 1}\n",
      "    👉 선택: C → path: ['A', 'C', 'C'], counter: {'A': 1, 'B': 1, 'C': 0}\n",
      "      ▶ 호출: path = ['A', 'C', 'C'], counter = {'A': 1, 'B': 1, 'C': 0}\n",
      "      👉 선택: A → path: ['A', 'C', 'C', 'A'], counter: {'A': 0, 'B': 1, 'C': 0}\n",
      "        ▶ 호출: path = ['A', 'C', 'C', 'A'], counter = {'A': 0, 'B': 1, 'C': 0}\n",
      "        👉 선택: B → path: ['A', 'C', 'C', 'A', 'B'], counter: {'A': 0, 'B': 0, 'C': 0}\n",
      "          ▶ 호출: path = ['A', 'C', 'C', 'A', 'B'], counter = {'A': 0, 'B': 0, 'C': 0}\n",
      "          ✅ 완료: ACCAB\n",
      "        🔙 백트래킹: B 제거 → path: ['A', 'C', 'C', 'A'], counter: {'A': 0, 'B': 1, 'C': 0}\n",
      "      🔙 백트래킹: A 제거 → path: ['A', 'C', 'C'], counter: {'A': 1, 'B': 1, 'C': 0}\n",
      "      👉 선택: B → path: ['A', 'C', 'C', 'B'], counter: {'A': 1, 'B': 0, 'C': 0}\n",
      "        ▶ 호출: path = ['A', 'C', 'C', 'B'], counter = {'A': 1, 'B': 0, 'C': 0}\n",
      "        👉 선택: A → path: ['A', 'C', 'C', 'B', 'A'], counter: {'A': 0, 'B': 0, 'C': 0}\n",
      "          ▶ 호출: path = ['A', 'C', 'C', 'B', 'A'], counter = {'A': 0, 'B': 0, 'C': 0}\n",
      "          ✅ 완료: ACCBA\n",
      "        🔙 백트래킹: A 제거 → path: ['A', 'C', 'C', 'B'], counter: {'A': 1, 'B': 0, 'C': 0}\n",
      "      🔙 백트래킹: B 제거 → path: ['A', 'C', 'C'], counter: {'A': 1, 'B': 1, 'C': 0}\n",
      "    🔙 백트래킹: C 제거 → path: ['A', 'C'], counter: {'A': 1, 'B': 1, 'C': 1}\n",
      "  🔙 백트래킹: C 제거 → path: ['A'], counter: {'A': 1, 'B': 1, 'C': 2}\n",
      "🔙 백트래킹: A 제거 → path: [], counter: {'A': 2, 'B': 1, 'C': 2}\n",
      "👉 선택: B → path: ['B'], counter: {'A': 2, 'B': 0, 'C': 2}\n",
      "  ▶ 호출: path = ['B'], counter = {'A': 2, 'B': 0, 'C': 2}\n",
      "  👉 선택: A → path: ['B', 'A'], counter: {'A': 1, 'B': 0, 'C': 2}\n",
      "    ▶ 호출: path = ['B', 'A'], counter = {'A': 1, 'B': 0, 'C': 2}\n",
      "    👉 선택: A → path: ['B', 'A', 'A'], counter: {'A': 0, 'B': 0, 'C': 2}\n",
      "      ▶ 호출: path = ['B', 'A', 'A'], counter = {'A': 0, 'B': 0, 'C': 2}\n",
      "      👉 선택: C → path: ['B', 'A', 'A', 'C'], counter: {'A': 0, 'B': 0, 'C': 1}\n",
      "        ▶ 호출: path = ['B', 'A', 'A', 'C'], counter = {'A': 0, 'B': 0, 'C': 1}\n",
      "        👉 선택: C → path: ['B', 'A', 'A', 'C', 'C'], counter: {'A': 0, 'B': 0, 'C': 0}\n",
      "          ▶ 호출: path = ['B', 'A', 'A', 'C', 'C'], counter = {'A': 0, 'B': 0, 'C': 0}\n",
      "          ✅ 완료: BAACC\n",
      "        🔙 백트래킹: C 제거 → path: ['B', 'A', 'A', 'C'], counter: {'A': 0, 'B': 0, 'C': 1}\n",
      "      🔙 백트래킹: C 제거 → path: ['B', 'A', 'A'], counter: {'A': 0, 'B': 0, 'C': 2}\n",
      "    🔙 백트래킹: A 제거 → path: ['B', 'A'], counter: {'A': 1, 'B': 0, 'C': 2}\n",
      "    👉 선택: C → path: ['B', 'A', 'C'], counter: {'A': 1, 'B': 0, 'C': 1}\n",
      "      ▶ 호출: path = ['B', 'A', 'C'], counter = {'A': 1, 'B': 0, 'C': 1}\n",
      "      👉 선택: A → path: ['B', 'A', 'C', 'A'], counter: {'A': 0, 'B': 0, 'C': 1}\n",
      "        ▶ 호출: path = ['B', 'A', 'C', 'A'], counter = {'A': 0, 'B': 0, 'C': 1}\n",
      "        👉 선택: C → path: ['B', 'A', 'C', 'A', 'C'], counter: {'A': 0, 'B': 0, 'C': 0}\n",
      "          ▶ 호출: path = ['B', 'A', 'C', 'A', 'C'], counter = {'A': 0, 'B': 0, 'C': 0}\n",
      "          ✅ 완료: BACAC\n",
      "        🔙 백트래킹: C 제거 → path: ['B', 'A', 'C', 'A'], counter: {'A': 0, 'B': 0, 'C': 1}\n",
      "      🔙 백트래킹: A 제거 → path: ['B', 'A', 'C'], counter: {'A': 1, 'B': 0, 'C': 1}\n",
      "      👉 선택: C → path: ['B', 'A', 'C', 'C'], counter: {'A': 1, 'B': 0, 'C': 0}\n",
      "        ▶ 호출: path = ['B', 'A', 'C', 'C'], counter = {'A': 1, 'B': 0, 'C': 0}\n",
      "        👉 선택: A → path: ['B', 'A', 'C', 'C', 'A'], counter: {'A': 0, 'B': 0, 'C': 0}\n",
      "          ▶ 호출: path = ['B', 'A', 'C', 'C', 'A'], counter = {'A': 0, 'B': 0, 'C': 0}\n",
      "          ✅ 완료: BACCA\n",
      "        🔙 백트래킹: A 제거 → path: ['B', 'A', 'C', 'C'], counter: {'A': 1, 'B': 0, 'C': 0}\n",
      "      🔙 백트래킹: C 제거 → path: ['B', 'A', 'C'], counter: {'A': 1, 'B': 0, 'C': 1}\n",
      "    🔙 백트래킹: C 제거 → path: ['B', 'A'], counter: {'A': 1, 'B': 0, 'C': 2}\n",
      "  🔙 백트래킹: A 제거 → path: ['B'], counter: {'A': 2, 'B': 0, 'C': 2}\n",
      "  👉 선택: C → path: ['B', 'C'], counter: {'A': 2, 'B': 0, 'C': 1}\n",
      "    ▶ 호출: path = ['B', 'C'], counter = {'A': 2, 'B': 0, 'C': 1}\n",
      "    👉 선택: A → path: ['B', 'C', 'A'], counter: {'A': 1, 'B': 0, 'C': 1}\n",
      "      ▶ 호출: path = ['B', 'C', 'A'], counter = {'A': 1, 'B': 0, 'C': 1}\n",
      "      👉 선택: A → path: ['B', 'C', 'A', 'A'], counter: {'A': 0, 'B': 0, 'C': 1}\n",
      "        ▶ 호출: path = ['B', 'C', 'A', 'A'], counter = {'A': 0, 'B': 0, 'C': 1}\n",
      "        👉 선택: C → path: ['B', 'C', 'A', 'A', 'C'], counter: {'A': 0, 'B': 0, 'C': 0}\n",
      "          ▶ 호출: path = ['B', 'C', 'A', 'A', 'C'], counter = {'A': 0, 'B': 0, 'C': 0}\n",
      "          ✅ 완료: BCAAC\n",
      "        🔙 백트래킹: C 제거 → path: ['B', 'C', 'A', 'A'], counter: {'A': 0, 'B': 0, 'C': 1}\n",
      "      🔙 백트래킹: A 제거 → path: ['B', 'C', 'A'], counter: {'A': 1, 'B': 0, 'C': 1}\n",
      "      👉 선택: C → path: ['B', 'C', 'A', 'C'], counter: {'A': 1, 'B': 0, 'C': 0}\n",
      "        ▶ 호출: path = ['B', 'C', 'A', 'C'], counter = {'A': 1, 'B': 0, 'C': 0}\n",
      "        👉 선택: A → path: ['B', 'C', 'A', 'C', 'A'], counter: {'A': 0, 'B': 0, 'C': 0}\n",
      "          ▶ 호출: path = ['B', 'C', 'A', 'C', 'A'], counter = {'A': 0, 'B': 0, 'C': 0}\n",
      "          ✅ 완료: BCACA\n",
      "        🔙 백트래킹: A 제거 → path: ['B', 'C', 'A', 'C'], counter: {'A': 1, 'B': 0, 'C': 0}\n",
      "      🔙 백트래킹: C 제거 → path: ['B', 'C', 'A'], counter: {'A': 1, 'B': 0, 'C': 1}\n",
      "    🔙 백트래킹: A 제거 → path: ['B', 'C'], counter: {'A': 2, 'B': 0, 'C': 1}\n",
      "    👉 선택: C → path: ['B', 'C', 'C'], counter: {'A': 2, 'B': 0, 'C': 0}\n",
      "      ▶ 호출: path = ['B', 'C', 'C'], counter = {'A': 2, 'B': 0, 'C': 0}\n",
      "      👉 선택: A → path: ['B', 'C', 'C', 'A'], counter: {'A': 1, 'B': 0, 'C': 0}\n",
      "        ▶ 호출: path = ['B', 'C', 'C', 'A'], counter = {'A': 1, 'B': 0, 'C': 0}\n",
      "        👉 선택: A → path: ['B', 'C', 'C', 'A', 'A'], counter: {'A': 0, 'B': 0, 'C': 0}\n",
      "          ▶ 호출: path = ['B', 'C', 'C', 'A', 'A'], counter = {'A': 0, 'B': 0, 'C': 0}\n",
      "          ✅ 완료: BCCAA\n",
      "        🔙 백트래킹: A 제거 → path: ['B', 'C', 'C', 'A'], counter: {'A': 1, 'B': 0, 'C': 0}\n",
      "      🔙 백트래킹: A 제거 → path: ['B', 'C', 'C'], counter: {'A': 2, 'B': 0, 'C': 0}\n",
      "    🔙 백트래킹: C 제거 → path: ['B', 'C'], counter: {'A': 2, 'B': 0, 'C': 1}\n",
      "  🔙 백트래킹: C 제거 → path: ['B'], counter: {'A': 2, 'B': 0, 'C': 2}\n",
      "🔙 백트래킹: B 제거 → path: [], counter: {'A': 2, 'B': 1, 'C': 2}\n",
      "👉 선택: C → path: ['C'], counter: {'A': 2, 'B': 1, 'C': 1}\n",
      "  ▶ 호출: path = ['C'], counter = {'A': 2, 'B': 1, 'C': 1}\n",
      "  👉 선택: A → path: ['C', 'A'], counter: {'A': 1, 'B': 1, 'C': 1}\n",
      "    ▶ 호출: path = ['C', 'A'], counter = {'A': 1, 'B': 1, 'C': 1}\n",
      "    👉 선택: A → path: ['C', 'A', 'A'], counter: {'A': 0, 'B': 1, 'C': 1}\n",
      "      ▶ 호출: path = ['C', 'A', 'A'], counter = {'A': 0, 'B': 1, 'C': 1}\n",
      "      👉 선택: B → path: ['C', 'A', 'A', 'B'], counter: {'A': 0, 'B': 0, 'C': 1}\n",
      "        ▶ 호출: path = ['C', 'A', 'A', 'B'], counter = {'A': 0, 'B': 0, 'C': 1}\n",
      "        👉 선택: C → path: ['C', 'A', 'A', 'B', 'C'], counter: {'A': 0, 'B': 0, 'C': 0}\n",
      "          ▶ 호출: path = ['C', 'A', 'A', 'B', 'C'], counter = {'A': 0, 'B': 0, 'C': 0}\n",
      "          ✅ 완료: CAABC\n",
      "        🔙 백트래킹: C 제거 → path: ['C', 'A', 'A', 'B'], counter: {'A': 0, 'B': 0, 'C': 1}\n",
      "      🔙 백트래킹: B 제거 → path: ['C', 'A', 'A'], counter: {'A': 0, 'B': 1, 'C': 1}\n",
      "      👉 선택: C → path: ['C', 'A', 'A', 'C'], counter: {'A': 0, 'B': 1, 'C': 0}\n",
      "        ▶ 호출: path = ['C', 'A', 'A', 'C'], counter = {'A': 0, 'B': 1, 'C': 0}\n",
      "        👉 선택: B → path: ['C', 'A', 'A', 'C', 'B'], counter: {'A': 0, 'B': 0, 'C': 0}\n",
      "          ▶ 호출: path = ['C', 'A', 'A', 'C', 'B'], counter = {'A': 0, 'B': 0, 'C': 0}\n",
      "          ✅ 완료: CAACB\n",
      "        🔙 백트래킹: B 제거 → path: ['C', 'A', 'A', 'C'], counter: {'A': 0, 'B': 1, 'C': 0}\n",
      "      🔙 백트래킹: C 제거 → path: ['C', 'A', 'A'], counter: {'A': 0, 'B': 1, 'C': 1}\n",
      "    🔙 백트래킹: A 제거 → path: ['C', 'A'], counter: {'A': 1, 'B': 1, 'C': 1}\n",
      "    👉 선택: B → path: ['C', 'A', 'B'], counter: {'A': 1, 'B': 0, 'C': 1}\n",
      "      ▶ 호출: path = ['C', 'A', 'B'], counter = {'A': 1, 'B': 0, 'C': 1}\n",
      "      👉 선택: A → path: ['C', 'A', 'B', 'A'], counter: {'A': 0, 'B': 0, 'C': 1}\n",
      "        ▶ 호출: path = ['C', 'A', 'B', 'A'], counter = {'A': 0, 'B': 0, 'C': 1}\n",
      "        👉 선택: C → path: ['C', 'A', 'B', 'A', 'C'], counter: {'A': 0, 'B': 0, 'C': 0}\n",
      "          ▶ 호출: path = ['C', 'A', 'B', 'A', 'C'], counter = {'A': 0, 'B': 0, 'C': 0}\n",
      "          ✅ 완료: CABAC\n",
      "        🔙 백트래킹: C 제거 → path: ['C', 'A', 'B', 'A'], counter: {'A': 0, 'B': 0, 'C': 1}\n",
      "      🔙 백트래킹: A 제거 → path: ['C', 'A', 'B'], counter: {'A': 1, 'B': 0, 'C': 1}\n",
      "      👉 선택: C → path: ['C', 'A', 'B', 'C'], counter: {'A': 1, 'B': 0, 'C': 0}\n",
      "        ▶ 호출: path = ['C', 'A', 'B', 'C'], counter = {'A': 1, 'B': 0, 'C': 0}\n",
      "        👉 선택: A → path: ['C', 'A', 'B', 'C', 'A'], counter: {'A': 0, 'B': 0, 'C': 0}\n",
      "          ▶ 호출: path = ['C', 'A', 'B', 'C', 'A'], counter = {'A': 0, 'B': 0, 'C': 0}\n",
      "          ✅ 완료: CABCA\n",
      "        🔙 백트래킹: A 제거 → path: ['C', 'A', 'B', 'C'], counter: {'A': 1, 'B': 0, 'C': 0}\n",
      "      🔙 백트래킹: C 제거 → path: ['C', 'A', 'B'], counter: {'A': 1, 'B': 0, 'C': 1}\n",
      "    🔙 백트래킹: B 제거 → path: ['C', 'A'], counter: {'A': 1, 'B': 1, 'C': 1}\n",
      "    👉 선택: C → path: ['C', 'A', 'C'], counter: {'A': 1, 'B': 1, 'C': 0}\n",
      "      ▶ 호출: path = ['C', 'A', 'C'], counter = {'A': 1, 'B': 1, 'C': 0}\n",
      "      👉 선택: A → path: ['C', 'A', 'C', 'A'], counter: {'A': 0, 'B': 1, 'C': 0}\n",
      "        ▶ 호출: path = ['C', 'A', 'C', 'A'], counter = {'A': 0, 'B': 1, 'C': 0}\n",
      "        👉 선택: B → path: ['C', 'A', 'C', 'A', 'B'], counter: {'A': 0, 'B': 0, 'C': 0}\n",
      "          ▶ 호출: path = ['C', 'A', 'C', 'A', 'B'], counter = {'A': 0, 'B': 0, 'C': 0}\n",
      "          ✅ 완료: CACAB\n",
      "        🔙 백트래킹: B 제거 → path: ['C', 'A', 'C', 'A'], counter: {'A': 0, 'B': 1, 'C': 0}\n",
      "      🔙 백트래킹: A 제거 → path: ['C', 'A', 'C'], counter: {'A': 1, 'B': 1, 'C': 0}\n",
      "      👉 선택: B → path: ['C', 'A', 'C', 'B'], counter: {'A': 1, 'B': 0, 'C': 0}\n",
      "        ▶ 호출: path = ['C', 'A', 'C', 'B'], counter = {'A': 1, 'B': 0, 'C': 0}\n",
      "        👉 선택: A → path: ['C', 'A', 'C', 'B', 'A'], counter: {'A': 0, 'B': 0, 'C': 0}\n",
      "          ▶ 호출: path = ['C', 'A', 'C', 'B', 'A'], counter = {'A': 0, 'B': 0, 'C': 0}\n",
      "          ✅ 완료: CACBA\n",
      "        🔙 백트래킹: A 제거 → path: ['C', 'A', 'C', 'B'], counter: {'A': 1, 'B': 0, 'C': 0}\n",
      "      🔙 백트래킹: B 제거 → path: ['C', 'A', 'C'], counter: {'A': 1, 'B': 1, 'C': 0}\n",
      "    🔙 백트래킹: C 제거 → path: ['C', 'A'], counter: {'A': 1, 'B': 1, 'C': 1}\n",
      "  🔙 백트래킹: A 제거 → path: ['C'], counter: {'A': 2, 'B': 1, 'C': 1}\n",
      "  👉 선택: B → path: ['C', 'B'], counter: {'A': 2, 'B': 0, 'C': 1}\n",
      "    ▶ 호출: path = ['C', 'B'], counter = {'A': 2, 'B': 0, 'C': 1}\n",
      "    👉 선택: A → path: ['C', 'B', 'A'], counter: {'A': 1, 'B': 0, 'C': 1}\n",
      "      ▶ 호출: path = ['C', 'B', 'A'], counter = {'A': 1, 'B': 0, 'C': 1}\n",
      "      👉 선택: A → path: ['C', 'B', 'A', 'A'], counter: {'A': 0, 'B': 0, 'C': 1}\n",
      "        ▶ 호출: path = ['C', 'B', 'A', 'A'], counter = {'A': 0, 'B': 0, 'C': 1}\n",
      "        👉 선택: C → path: ['C', 'B', 'A', 'A', 'C'], counter: {'A': 0, 'B': 0, 'C': 0}\n",
      "          ▶ 호출: path = ['C', 'B', 'A', 'A', 'C'], counter = {'A': 0, 'B': 0, 'C': 0}\n",
      "          ✅ 완료: CBAAC\n",
      "        🔙 백트래킹: C 제거 → path: ['C', 'B', 'A', 'A'], counter: {'A': 0, 'B': 0, 'C': 1}\n",
      "      🔙 백트래킹: A 제거 → path: ['C', 'B', 'A'], counter: {'A': 1, 'B': 0, 'C': 1}\n",
      "      👉 선택: C → path: ['C', 'B', 'A', 'C'], counter: {'A': 1, 'B': 0, 'C': 0}\n",
      "        ▶ 호출: path = ['C', 'B', 'A', 'C'], counter = {'A': 1, 'B': 0, 'C': 0}\n",
      "        👉 선택: A → path: ['C', 'B', 'A', 'C', 'A'], counter: {'A': 0, 'B': 0, 'C': 0}\n",
      "          ▶ 호출: path = ['C', 'B', 'A', 'C', 'A'], counter = {'A': 0, 'B': 0, 'C': 0}\n",
      "          ✅ 완료: CBACA\n",
      "        🔙 백트래킹: A 제거 → path: ['C', 'B', 'A', 'C'], counter: {'A': 1, 'B': 0, 'C': 0}\n",
      "      🔙 백트래킹: C 제거 → path: ['C', 'B', 'A'], counter: {'A': 1, 'B': 0, 'C': 1}\n",
      "    🔙 백트래킹: A 제거 → path: ['C', 'B'], counter: {'A': 2, 'B': 0, 'C': 1}\n",
      "    👉 선택: C → path: ['C', 'B', 'C'], counter: {'A': 2, 'B': 0, 'C': 0}\n",
      "      ▶ 호출: path = ['C', 'B', 'C'], counter = {'A': 2, 'B': 0, 'C': 0}\n",
      "      👉 선택: A → path: ['C', 'B', 'C', 'A'], counter: {'A': 1, 'B': 0, 'C': 0}\n",
      "        ▶ 호출: path = ['C', 'B', 'C', 'A'], counter = {'A': 1, 'B': 0, 'C': 0}\n",
      "        👉 선택: A → path: ['C', 'B', 'C', 'A', 'A'], counter: {'A': 0, 'B': 0, 'C': 0}\n",
      "          ▶ 호출: path = ['C', 'B', 'C', 'A', 'A'], counter = {'A': 0, 'B': 0, 'C': 0}\n",
      "          ✅ 완료: CBCAA\n",
      "        🔙 백트래킹: A 제거 → path: ['C', 'B', 'C', 'A'], counter: {'A': 1, 'B': 0, 'C': 0}\n",
      "      🔙 백트래킹: A 제거 → path: ['C', 'B', 'C'], counter: {'A': 2, 'B': 0, 'C': 0}\n",
      "    🔙 백트래킹: C 제거 → path: ['C', 'B'], counter: {'A': 2, 'B': 0, 'C': 1}\n",
      "  🔙 백트래킹: B 제거 → path: ['C'], counter: {'A': 2, 'B': 1, 'C': 1}\n",
      "  👉 선택: C → path: ['C', 'C'], counter: {'A': 2, 'B': 1, 'C': 0}\n",
      "    ▶ 호출: path = ['C', 'C'], counter = {'A': 2, 'B': 1, 'C': 0}\n",
      "    👉 선택: A → path: ['C', 'C', 'A'], counter: {'A': 1, 'B': 1, 'C': 0}\n",
      "      ▶ 호출: path = ['C', 'C', 'A'], counter = {'A': 1, 'B': 1, 'C': 0}\n",
      "      👉 선택: A → path: ['C', 'C', 'A', 'A'], counter: {'A': 0, 'B': 1, 'C': 0}\n",
      "        ▶ 호출: path = ['C', 'C', 'A', 'A'], counter = {'A': 0, 'B': 1, 'C': 0}\n",
      "        👉 선택: B → path: ['C', 'C', 'A', 'A', 'B'], counter: {'A': 0, 'B': 0, 'C': 0}\n",
      "          ▶ 호출: path = ['C', 'C', 'A', 'A', 'B'], counter = {'A': 0, 'B': 0, 'C': 0}\n",
      "          ✅ 완료: CCAAB\n",
      "        🔙 백트래킹: B 제거 → path: ['C', 'C', 'A', 'A'], counter: {'A': 0, 'B': 1, 'C': 0}\n",
      "      🔙 백트래킹: A 제거 → path: ['C', 'C', 'A'], counter: {'A': 1, 'B': 1, 'C': 0}\n",
      "      👉 선택: B → path: ['C', 'C', 'A', 'B'], counter: {'A': 1, 'B': 0, 'C': 0}\n",
      "        ▶ 호출: path = ['C', 'C', 'A', 'B'], counter = {'A': 1, 'B': 0, 'C': 0}\n",
      "        👉 선택: A → path: ['C', 'C', 'A', 'B', 'A'], counter: {'A': 0, 'B': 0, 'C': 0}\n",
      "          ▶ 호출: path = ['C', 'C', 'A', 'B', 'A'], counter = {'A': 0, 'B': 0, 'C': 0}\n",
      "          ✅ 완료: CCABA\n",
      "        🔙 백트래킹: A 제거 → path: ['C', 'C', 'A', 'B'], counter: {'A': 1, 'B': 0, 'C': 0}\n",
      "      🔙 백트래킹: B 제거 → path: ['C', 'C', 'A'], counter: {'A': 1, 'B': 1, 'C': 0}\n",
      "    🔙 백트래킹: A 제거 → path: ['C', 'C'], counter: {'A': 2, 'B': 1, 'C': 0}\n",
      "    👉 선택: B → path: ['C', 'C', 'B'], counter: {'A': 2, 'B': 0, 'C': 0}\n",
      "      ▶ 호출: path = ['C', 'C', 'B'], counter = {'A': 2, 'B': 0, 'C': 0}\n",
      "      👉 선택: A → path: ['C', 'C', 'B', 'A'], counter: {'A': 1, 'B': 0, 'C': 0}\n",
      "        ▶ 호출: path = ['C', 'C', 'B', 'A'], counter = {'A': 1, 'B': 0, 'C': 0}\n",
      "        👉 선택: A → path: ['C', 'C', 'B', 'A', 'A'], counter: {'A': 0, 'B': 0, 'C': 0}\n",
      "          ▶ 호출: path = ['C', 'C', 'B', 'A', 'A'], counter = {'A': 0, 'B': 0, 'C': 0}\n",
      "          ✅ 완료: CCBAA\n",
      "        🔙 백트래킹: A 제거 → path: ['C', 'C', 'B', 'A'], counter: {'A': 1, 'B': 0, 'C': 0}\n",
      "      🔙 백트래킹: A 제거 → path: ['C', 'C', 'B'], counter: {'A': 2, 'B': 0, 'C': 0}\n",
      "    🔙 백트래킹: B 제거 → path: ['C', 'C'], counter: {'A': 2, 'B': 1, 'C': 0}\n",
      "  🔙 백트래킹: C 제거 → path: ['C'], counter: {'A': 2, 'B': 1, 'C': 1}\n",
      "🔙 백트래킹: C 제거 → path: [], counter: {'A': 2, 'B': 1, 'C': 2}\n",
      "\n",
      "💡 최종 조합 개수: 30\n",
      "👉 AABCC\n",
      "👉 AACBC\n",
      "👉 AACCB\n",
      "👉 ABACC\n",
      "👉 ABCAC\n",
      "👉 ABCCA\n",
      "👉 ACABC\n",
      "👉 ACACB\n",
      "👉 ACBAC\n",
      "👉 ACBCA\n"
     ]
    }
   ],
   "source": [
    "def generate_permutations(counter, path, total_len, result, depth=0):\n",
    "    indent = \"  \" * depth  # 깊이에 따라 들여쓰기\n",
    "    print(f\"{indent}▶ 호출: path = {path}, counter = {dict(counter)}\")\n",
    "\n",
    "    if len(path) == total_len:\n",
    "        combination = ''.join(path)\n",
    "        result.append(combination)\n",
    "        print(f\"{indent}✅ 완료: {combination}\")\n",
    "        return\n",
    "\n",
    "    for card in counter:\n",
    "        if counter[card] > 0:\n",
    "            # 선택\n",
    "            path.append(card)\n",
    "            counter[card] -= 1\n",
    "            print(f\"{indent}👉 선택: {card} → path: {path}, counter: {dict(counter)}\")\n",
    "\n",
    "            # 재귀 호출\n",
    "            generate_permutations(counter, path, total_len, result, depth + 1)\n",
    "\n",
    "            # 백트래킹\n",
    "            removed = path.pop()\n",
    "            counter[card] += 1\n",
    "            print(f\"{indent}🔙 백트래킹: {removed} 제거 → path: {path}, counter: {dict(counter)}\")\n",
    "\n",
    "# 초기 카드 상태\n",
    "card_counts = {'A': 2, 'B': 1, 'C': 2}\n",
    "total_len = sum(card_counts.values())\n",
    "result = []\n",
    "\n",
    "# 실행\n",
    "generate_permutations(dict(card_counts), [], total_len, result)\n",
    "\n",
    "print(\"\\n💡 최종 조합 개수:\", len(result))\n",
    "for r in result[:10]:\n",
    "    print(\"👉\", r)\n"
   ]
  },
  {
   "cell_type": "code",
   "execution_count": 140,
   "metadata": {},
   "outputs": [
    {
     "data": {
      "text/plain": [
       "720"
      ]
     },
     "execution_count": 140,
     "metadata": {},
     "output_type": "execute_result"
    }
   ],
   "source": [
    "from itertools import permutations\n",
    "pers = permutations(op_list)\n",
    "new = []\n",
    "for p in pers:\n",
    "    p_ = ''\n",
    "    for i in p:\n",
    "        p_ += i\n",
    "    new.append(p_)\n",
    "len(new)"
   ]
  },
  {
   "cell_type": "code",
   "execution_count": 141,
   "metadata": {},
   "outputs": [
    {
     "data": {
      "text/plain": [
       "60"
      ]
     },
     "execution_count": 141,
     "metadata": {},
     "output_type": "execute_result"
    }
   ],
   "source": [
    "len(set(new))"
   ]
  },
  {
   "cell_type": "code",
   "execution_count": 104,
   "metadata": {},
   "outputs": [
    {
     "data": {
      "text/plain": [
       "-0.3333333333333333"
      ]
     },
     "execution_count": 104,
     "metadata": {},
     "output_type": "execute_result"
    }
   ],
   "source": [
    "2/-6"
   ]
  },
  {
   "cell_type": "code",
   "execution_count": 102,
   "metadata": {},
   "outputs": [
    {
     "ename": "IndentationError",
     "evalue": "unexpected indent (477204964.py, line 2)",
     "output_type": "error",
     "traceback": [
      "\u001b[0;36m  Cell \u001b[0;32mIn[102], line 2\u001b[0;36m\u001b[0m\n\u001b[0;31m    init = num_list[0]\u001b[0m\n\u001b[0m    ^\u001b[0m\n\u001b[0;31mIndentationError\u001b[0m\u001b[0;31m:\u001b[0m unexpected indent\n"
     ]
    }
   ],
   "source": [
    "results = []\n",
    "\n",
    "for ops in op_coms:\n",
    "    init = num_list[0]\n",
    "    for i, num in enumerate(num_list[1:]):\n",
    "        op = ops[i]\n",
    "        if op == '+':\n",
    "            init=init+num\n",
    "        elif op == '-':\n",
    "            init=init-num\n",
    "        if op == '*':\n",
    "            init=init*num\n",
    "        if op == '%':\n",
    "            init=init//num\n",
    "        \n",
    "max = max(results)\n",
    "min = min(results)\n",
    "\n",
    "print(f'MAX: {max}\\nNIM: {min}')"
   ]
  },
  {
   "cell_type": "markdown",
   "metadata": {},
   "source": [
    "# 21 인구 이동 (삼전 SW 역량테스트)"
   ]
  }
 ],
 "metadata": {
  "kernelspec": {
   "display_name": "Python 3",
   "language": "python",
   "name": "python3"
  },
  "language_info": {
   "codemirror_mode": {
    "name": "ipython",
    "version": 3
   },
   "file_extension": ".py",
   "mimetype": "text/x-python",
   "name": "python",
   "nbconvert_exporter": "python",
   "pygments_lexer": "ipython3",
   "version": "3.9.6"
  },
  "orig_nbformat": 4
 },
 "nbformat": 4,
 "nbformat_minor": 2
}
